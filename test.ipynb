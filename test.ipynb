{
 "cells": [
  {
   "cell_type": "code",
   "execution_count": 1,
   "metadata": {},
   "outputs": [],
   "source": [
    "from src import tpu_setup"
   ]
  },
  {
   "cell_type": "code",
   "execution_count": 5,
   "metadata": {},
   "outputs": [],
   "source": [
    "# Result Visualization Helper\n",
    "import math\n",
    "from matplotlib import pyplot as plt\n",
    "\n",
    "M, N = 4, 6\n",
    "RESULT_IMG_PATH = '/tmp/test_result.png'\n",
    "\n",
    "def plot_results(images, labels, preds):\n",
    "  images, labels, preds = images[:M*N], labels[:M*N], preds[:M*N]\n",
    "  inv_norm = transforms.Normalize((-0.1307/0.3081,), (1/0.3081,))\n",
    "\n",
    "  num_images = images.shape[0]\n",
    "  fig, axes = plt.subplots(M, N, figsize=(11, 9))\n",
    "  fig.suptitle('Correct / Predicted Labels (Red text for incorrect ones)')\n",
    "\n",
    "  for i, ax in enumerate(fig.axes):\n",
    "    ax.axis('off')\n",
    "    if i >= num_images:\n",
    "      continue\n",
    "    img, label, prediction = images[i], labels[i], preds[i]\n",
    "    img = inv_norm(img)\n",
    "    img = img.squeeze() # [1,Y,X] -> [Y,X]\n",
    "    label, prediction = label.item(), prediction.item()\n",
    "    if label == prediction:\n",
    "      ax.set_title(u'\\u2713', color='blue', fontsize=22)\n",
    "    else:\n",
    "      ax.set_title(\n",
    "          'X {}/{}'.format(label, prediction), color='red')\n",
    "    ax.imshow(img)\n",
    "  plt.savefig(RESULT_IMG_PATH, transparent=True)"
   ]
  },
  {
   "cell_type": "code",
   "execution_count": 6,
   "metadata": {},
   "outputs": [],
   "source": [
    "# Define Parameters\n",
    "FLAGS = {}\n",
    "FLAGS['datadir'] = \"/tmp/mnist\"\n",
    "FLAGS['batch_size'] = 128\n",
    "FLAGS['num_workers'] = 4\n",
    "FLAGS['learning_rate'] = 0.01\n",
    "FLAGS['momentum'] = 0.5\n",
    "FLAGS['num_epochs'] = 10\n",
    "FLAGS['num_cores'] = 8\n",
    "FLAGS['log_steps'] = 20\n",
    "FLAGS['metrics_debug'] = False"
   ]
  },
  {
   "cell_type": "code",
   "execution_count": 7,
   "metadata": {},
   "outputs": [],
   "source": [
    "import numpy as np\n",
    "import os\n",
    "import time\n",
    "import torch\n",
    "import torch.nn as nn\n",
    "import torch.nn.functional as F\n",
    "import torch.optim as optim\n",
    "import torch_xla\n",
    "import torch_xla.core.xla_model as xm\n",
    "import torch_xla.debug.metrics as met\n",
    "import torch_xla.distributed.parallel_loader as pl\n",
    "import torch_xla.distributed.xla_multiprocessing as xmp\n",
    "import torch_xla.utils.utils as xu\n",
    "from torchvision import datasets, transforms\n",
    "\n",
    "\n",
    "class MNIST(nn.Module):\n",
    "\n",
    "  def __init__(self):\n",
    "    super(MNIST, self).__init__()\n",
    "    self.conv1 = nn.Conv2d(1, 10, kernel_size=5)\n",
    "    self.bn1 = nn.BatchNorm2d(10)\n",
    "    self.conv2 = nn.Conv2d(10, 20, kernel_size=5)\n",
    "    self.bn2 = nn.BatchNorm2d(20)\n",
    "    self.fc1 = nn.Linear(320, 50)\n",
    "    self.fc2 = nn.Linear(50, 10)\n",
    "\n",
    "  def forward(self, x):\n",
    "    x = F.relu(F.max_pool2d(self.conv1(x), 2))\n",
    "    x = self.bn1(x)\n",
    "    x = F.relu(F.max_pool2d(self.conv2(x), 2))\n",
    "    x = self.bn2(x)\n",
    "    x = torch.flatten(x, 1)\n",
    "    x = F.relu(self.fc1(x))\n",
    "    x = self.fc2(x)\n",
    "    return F.log_softmax(x, dim=1)\n",
    "\n",
    "\n",
    "def train_mnist():\n",
    "  torch.manual_seed(1)\n",
    "  \n",
    "  if not xm.is_master_ordinal():\n",
    "    # Barrier: Wait until master is done downloading\n",
    "    xm.rendezvous('download_only_once')\n",
    "\n",
    "  # Get and shard dataset into dataloaders\n",
    "  norm = transforms.Normalize((0.1307,), (0.3081,))\n",
    "  train_dataset = datasets.MNIST(\n",
    "      FLAGS['datadir'],\n",
    "      train=True,\n",
    "      download=True,\n",
    "      transform=transforms.Compose(\n",
    "          [transforms.ToTensor(), norm]))\n",
    "  test_dataset = datasets.MNIST(\n",
    "      FLAGS['datadir'],\n",
    "      train=False,\n",
    "      download=True,\n",
    "      transform=transforms.Compose(\n",
    "          [transforms.ToTensor(), norm]))\n",
    "  \n",
    "  if xm.is_master_ordinal():\n",
    "    # Barrier: Master done downloading, other workers can proceed\n",
    "    xm.rendezvous('download_only_once')\n",
    "\n",
    "  train_sampler = torch.utils.data.distributed.DistributedSampler(\n",
    "    train_dataset,\n",
    "    num_replicas=xm.xrt_world_size(),\n",
    "    rank=xm.get_ordinal(),\n",
    "    shuffle=True)\n",
    "  train_loader = torch.utils.data.DataLoader(\n",
    "      train_dataset,\n",
    "      batch_size=FLAGS['batch_size'],\n",
    "      sampler=train_sampler,\n",
    "      num_workers=FLAGS['num_workers'],\n",
    "      drop_last=True)\n",
    "  test_loader = torch.utils.data.DataLoader(\n",
    "      test_dataset,\n",
    "      batch_size=FLAGS['batch_size'],\n",
    "      shuffle=False,\n",
    "      num_workers=FLAGS['num_workers'],\n",
    "      drop_last=True)\n",
    "\n",
    "  # Scale learning rate to world size\n",
    "  lr = FLAGS['learning_rate'] * xm.xrt_world_size()\n",
    "\n",
    "  # Get loss function, optimizer, and model\n",
    "  device = xm.xla_device()\n",
    "  model = MNIST().to(device)\n",
    "  optimizer = optim.SGD(model.parameters(), lr=lr, momentum=FLAGS['momentum'])\n",
    "  loss_fn = nn.NLLLoss()\n",
    "\n",
    "  def train_loop_fn(loader):\n",
    "    tracker = xm.RateTracker()\n",
    "    model.train()\n",
    "    for x, (data, target) in enumerate(loader):\n",
    "      optimizer.zero_grad()\n",
    "      output = model(data)\n",
    "      loss = loss_fn(output, target)\n",
    "      loss.backward()\n",
    "      xm.optimizer_step(optimizer)\n",
    "      tracker.add(FLAGS['batch_size'])\n",
    "      if x % FLAGS['log_steps'] == 0:\n",
    "        print('[xla:{}]({}) Loss={:.5f} Rate={:.2f} GlobalRate={:.2f} Time={}'.format(\n",
    "            xm.get_ordinal(), x, loss.item(), tracker.rate(),\n",
    "            tracker.global_rate(), time.asctime()), flush=True)\n",
    "\n",
    "  def test_loop_fn(loader):\n",
    "    total_samples = 0\n",
    "    correct = 0\n",
    "    model.eval()\n",
    "    data, pred, target = None, None, None\n",
    "    for data, target in loader:\n",
    "      output = model(data)\n",
    "      pred = output.max(1, keepdim=True)[1]\n",
    "      correct += pred.eq(target.view_as(pred)).sum().item()\n",
    "      total_samples += data.size()[0]\n",
    "\n",
    "    accuracy = 100.0 * correct / total_samples\n",
    "    print('[xla:{}] Accuracy={:.2f}%'.format(\n",
    "        xm.get_ordinal(), accuracy), flush=True)\n",
    "    return accuracy, data, pred, target\n",
    "\n",
    "  # Train and eval loops\n",
    "  accuracy = 0.0\n",
    "  data, pred, target = None, None, None\n",
    "  for epoch in range(1, FLAGS['num_epochs'] + 1):\n",
    "    para_loader = pl.ParallelLoader(train_loader, [device])\n",
    "    train_loop_fn(para_loader.per_device_loader(device))\n",
    "    xm.master_print(\"Finished training epoch {}\".format(epoch))\n",
    "\n",
    "    para_loader = pl.ParallelLoader(test_loader, [device])\n",
    "    accuracy, data, pred, target  = test_loop_fn(para_loader.per_device_loader(device))\n",
    "    if FLAGS['metrics_debug']:\n",
    "      xm.master_print(met.metrics_report(), flush=True)\n",
    "\n",
    "  return accuracy, data, pred, target"
   ]
  },
  {
   "cell_type": "code",
   "execution_count": 8,
   "metadata": {
    "tags": [
     "outputPrepend",
     "outputPrepend",
     "outputPrepend",
     "outputPrepend",
     "outputPrepend",
     "outputPrepend",
     "outputPrepend",
     "outputPrepend",
     "outputPrepend",
     "outputPrepend",
     "outputPrepend",
     "outputPrepend",
     "outputPrepend",
     "outputPrepend",
     "outputPrepend",
     "outputPrepend",
     "outputPrepend",
     "outputPrepend",
     "outputPrepend",
     "outputPrepend",
     "outputPrepend",
     "outputPrepend",
     "outputPrepend",
     "outputPrepend",
     "outputPrepend",
     "outputPrepend",
     "outputPrepend",
     "outputPrepend",
     "outputPrepend",
     "outputPrepend",
     "outputPrepend",
     "outputPrepend",
     "outputPrepend",
     "outputPrepend",
     "outputPrepend",
     "outputPrepend",
     "outputPrepend",
     "outputPrepend",
     "outputPrepend",
     "outputPrepend",
     "outputPrepend",
     "outputPrepend",
     "outputPrepend",
     "outputPrepend",
     "outputPrepend",
     "outputPrepend"
    ]
   },
   "outputs": [
    {
     "output_type": "stream",
     "name": "stdout",
     "text": " GlobalRate=186.27 Time=Wed May 13 22:36:36 2020\n[xla:2](0) Loss=0.17236 Rate=180.31 GlobalRate=180.30 Time=Wed May 13 22:36:36 2020\n[xla:6](20) Loss=0.06498 Rate=2428.21 GlobalRate=1969.62 Time=Wed May 13 22:36:37 2020\n[xla:5](20) Loss=0.15600 Rate=2433.74 GlobalRate=2008.61 Time=Wed May 13 22:36:37 2020\n[xla:0](20) Loss=0.13816 Rate=2410.88 GlobalRate=1970.47 Time=Wed May 13 22:36:37 2020\n[xla:7](20) Loss=0.14673 Rate=2374.59 GlobalRate=1970.62 Time=Wed May 13 22:36:37 2020\n[xla:3](20) Loss=0.15537 Rate=2395.19 GlobalRate=1977.63 Time=Wed May 13 22:36:37 2020\n[xla:1](20) Loss=0.08047 Rate=2194.95 GlobalRate=1986.06 Time=Wed May 13 22:36:37 2020\n[xla:4](20) Loss=0.13028 Rate=2418.67 GlobalRate=2024.38 Time=Wed May 13 22:36:37 2020\n[xla:2](20) Loss=0.15555 Rate=2421.44 GlobalRate=1971.08 Time=Wed May 13 22:36:37 2020\n[xla:5](40) Loss=0.08765 Rate=3237.39 GlobalRate=2602.24 Time=Wed May 13 22:36:38 2020\n[xla:4](40) Loss=0.04056 Rate=3245.25 GlobalRate=2621.18 Time=Wed May 13 22:36:38 2020\n[xla:7](40) Loss=0.09238 Rate=3214.30 GlobalRate=2569.60 Time=Wed May 13 22:36:38 2020\n[xla:1](40) Loss=0.10042 Rate=3142.80 GlobalRate=2583.14 Time=Wed May 13 22:36:38 2020\n[xla:6](40) Loss=0.09438 Rate=3230.81 GlobalRate=2566.87 Time=Wed May 13 22:36:38 2020\n[xla:0](40) Loss=0.13855 Rate=3208.54 GlobalRate=2561.78 Time=Wed May 13 22:36:38 2020\n[xla:3](40) Loss=0.13374 Rate=3197.94 GlobalRate=2566.31 Time=Wed May 13 22:36:38 2020\n[xla:2](40) Loss=0.09811 Rate=3219.06 GlobalRate=2564.71 Time=Wed May 13 22:36:38 2020\nFinished training epoch 2\n[xla:1] Accuracy=97.80%\n[xla:2] Accuracy=97.85%\n[xla:0] Accuracy=97.80%\n[xla:7] Accuracy=97.80%\n[xla:6] Accuracy=97.81%\n[xla:5] Accuracy=97.80%\n[xla:4] Accuracy=97.82%\n[xla:3] Accuracy=97.84%\n[xla:6](0) Loss=0.11059 Rate=234.53 GlobalRate=234.53 Time=Wed May 13 22:36:41 2020\n[xla:2](0) Loss=0.10862 Rate=229.19 GlobalRate=229.18 Time=Wed May 13 22:36:41 2020\n[xla:0](0) Loss=0.11319 Rate=217.97 GlobalRate=217.97 Time=Wed May 13 22:36:42 2020\n[xla:5](0) Loss=0.06849 Rate=223.20 GlobalRate=223.20 Time=Wed May 13 22:36:42 2020\n[xla:1](0) Loss=0.10934 Rate=210.32 GlobalRate=210.31 Time=Wed May 13 22:36:42 2020\n[xla:7](0) Loss=0.11960 Rate=207.82 GlobalRate=207.81 Time=Wed May 13 22:36:42 2020\n[xla:4](0) Loss=0.06589 Rate=209.12 GlobalRate=209.11 Time=Wed May 13 22:36:42 2020\n[xla:3](0) Loss=0.06587 Rate=208.87 GlobalRate=208.87 Time=Wed May 13 22:36:42 2020\n[xla:4](20) Loss=0.07899 Rate=2437.73 GlobalRate=2125.58 Time=Wed May 13 22:36:42 2020\n[xla:1](20) Loss=0.04471 Rate=2437.06 GlobalRate=2130.92 Time=Wed May 13 22:36:42 2020\n[xla:0](20) Loss=0.10737 Rate=2368.24 GlobalRate=2132.28 Time=Wed May 13 22:36:42 2020\n[xla:3](20) Loss=0.11275 Rate=2447.25 GlobalRate=2128.84 Time=Wed May 13 22:36:42 2020\n[xla:5](20) Loss=0.12368 Rate=2370.34 GlobalRate=2155.83 Time=Wed May 13 22:36:42 2020\n[xla:2](20) Loss=0.11635 Rate=2247.65 GlobalRate=2114.97 Time=Wed May 13 22:36:42 2020\n[xla:7](20) Loss=0.10244 Rate=2435.85 GlobalRate=2118.53 Time=Wed May 13 22:36:42 2020\n[xla:6](20) Loss=0.03518 Rate=2249.52 GlobalRate=2136.20 Time=Wed May 13 22:36:42 2020\n[xla:3](40) Loss=0.10074 Rate=3281.29 GlobalRate=2719.46 Time=Wed May 13 22:36:43 2020\n[xla:4](40) Loss=0.02133 Rate=3276.87 GlobalRate=2716.49 Time=Wed May 13 22:36:43 2020\n[xla:1](40) Loss=0.07026 Rate=3277.26 GlobalRate=2721.22 Time=Wed May 13 22:36:43 2020\n[xla:0](40) Loss=0.11123 Rate=3249.94 GlobalRate=2722.44 Time=Wed May 13 22:36:43 2020\n[xla:5](40) Loss=0.05088 Rate=3250.63 GlobalRate=2741.97 Time=Wed May 13 22:36:43 2020\n[xla:2](40) Loss=0.06945 Rate=3202.15 GlobalRate=2708.13 Time=Wed May 13 22:36:43 2020\n[xla:7](40) Loss=0.05435 Rate=3277.10 GlobalRate=2710.98 Time=Wed May 13 22:36:43 2020\n[xla:6](40) Loss=0.06025 Rate=3204.23 GlobalRate=2726.44 Time=Wed May 13 22:36:43 2020\nFinished training epoch 3\n[xla:6] Accuracy=98.31%\n[xla:0] Accuracy=98.31%\n[xla:3] Accuracy=98.33%\n[xla:1] Accuracy=98.27%\n[xla:5] Accuracy=98.27%\n[xla:4] Accuracy=98.32%\n[xla:2] Accuracy=98.33%\n[xla:7] Accuracy=98.29%\n[xla:6](0) Loss=0.08172 Rate=212.05 GlobalRate=212.05 Time=Wed May 13 22:36:47 2020\n[xla:3](0) Loss=0.04724 Rate=197.71 GlobalRate=197.70 Time=Wed May 13 22:36:47 2020\n[xla:5](0) Loss=0.03962 Rate=195.42 GlobalRate=195.41 Time=Wed May 13 22:36:47 2020\n[xla:2](0) Loss=0.08668 Rate=188.52 GlobalRate=188.52 Time=Wed May 13 22:36:47 2020\n[xla:1](0) Loss=0.07963 Rate=186.55 GlobalRate=186.54 Time=Wed May 13 22:36:47 2020\n[xla:0](0) Loss=0.09050 Rate=184.85 GlobalRate=184.85 Time=Wed May 13 22:36:47 2020\n[xla:7](0) Loss=0.09119 Rate=187.18 GlobalRate=187.18 Time=Wed May 13 22:36:47 2020\n[xla:4](0) Loss=0.05239 Rate=185.43 GlobalRate=185.43 Time=Wed May 13 22:36:47 2020\n[xla:6](20) Loss=0.02294 Rate=2151.13 GlobalRate=1995.57 Time=Wed May 13 22:36:47 2020\n[xla:3](20) Loss=0.09489 Rate=2280.52 GlobalRate=1998.27 Time=Wed May 13 22:36:47 2020\n[xla:0](20) Loss=0.09733 Rate=2420.46 GlobalRate=1995.48 Time=Wed May 13 22:36:47 2020\n[xla:5](20) Loss=0.11088 Rate=2315.60 GlobalRate=2003.69 Time=Wed May 13 22:36:47 2020\n[xla:1](20) Loss=0.03518 Rate=2409.32 GlobalRate=1999.89 Time=Wed May 13 22:36:47 2020\n[xla:7](20) Loss=0.08161 Rate=2435.70 GlobalRate=2014.29 Time=Wed May 13 22:36:47 2020\n[xla:4](20) Loss=0.06123 Rate=2439.78 GlobalRate=2006.56 Time=Wed May 13 22:36:47 2020\n[xla:2](20) Loss=0.09918 Rate=2410.36 GlobalRate=2010.77 Time=Wed May 13 22:36:47 2020\n[xla:7](40) Loss=0.03801 Rate=3293.29 GlobalRate=2628.18 Time=Wed May 13 22:36:48 2020\n[xla:6](40) Loss=0.05097 Rate=3179.69 GlobalRate=2611.89 Time=Wed May 13 22:36:48 2020\n[xla:5](40) Loss=0.03330 Rate=3245.77 GlobalRate=2619.11 Time=Wed May 13 22:36:48 2020\n[xla:3](40) Loss=0.07851 Rate=3231.12 GlobalRate=2614.14 Time=Wed May 13 22:36:48 2020\n[xla:1](40) Loss=0.04890 Rate=3283.96 GlobalRate=2616.05 Time=Wed May 13 22:36:48 2020\n[xla:2](40) Loss=0.05470 Rate=3283.51 GlobalRate=2625.24 Time=Wed May 13 22:36:48 2020\n[xla:4](40) Loss=0.01455 Rate=3294.71 GlobalRate=2621.36 Time=Wed May 13 22:36:48 2020\n[xla:0](40) Loss=0.09895 Rate=3287.68 GlobalRate=2611.91 Time=Wed May 13 22:36:48 2020\nFinished training epoch 4\n[xla:0] Accuracy=98.46%\n[xla:6] Accuracy=98.47%\n[xla:5] Accuracy=98.47%\n[xla:3] Accuracy=98.44%\n[xla:4] Accuracy=98.44%\n[xla:2] Accuracy=98.45%\n[xla:1] Accuracy=98.45%\n[xla:7] Accuracy=98.43%\n[xla:5](0) Loss=0.02672 Rate=215.98 GlobalRate=215.97 Time=Wed May 13 22:36:52 2020\n[xla:0](0) Loss=0.07681 Rate=205.72 GlobalRate=205.72 Time=Wed May 13 22:36:52 2020\n[xla:6](0) Loss=0.06433 Rate=196.80 GlobalRate=196.79 Time=Wed May 13 22:36:52 2020\n[xla:3](0) Loss=0.03718 Rate=187.81 GlobalRate=187.80 Time=Wed May 13 22:36:52 2020\n[xla:2](0) Loss=0.07632 Rate=189.98 GlobalRate=189.97 Time=Wed May 13 22:36:52 2020\n[xla:1](0) Loss=0.06249 Rate=188.76 GlobalRate=188.75 Time=Wed May 13 22:36:52 2020\n[xla:4](0) Loss=0.04422 Rate=186.92 GlobalRate=186.91 Time=Wed May 13 22:36:52 2020\n[xla:7](0) Loss=0.07541 Rate=188.53 GlobalRate=188.53 Time=Wed May 13 22:36:52 2020\n[xla:0](20) Loss=0.09088 Rate=2175.70 GlobalRate=1982.39 Time=Wed May 13 22:36:52 2020\n[xla:7](20) Loss=0.06857 Rate=2425.10 GlobalRate=2017.01 Time=Wed May 13 22:36:52 2020\n[xla:4](20) Loss=0.05090 Rate=2424.18 GlobalRate=2008.08 Time=Wed May 13 22:36:52 2020\n[xla:1](20) Loss=0.02976 Rate=2413.68 GlobalRate=2013.40 Time=Wed May 13 22:36:52 2020\n[xla:6](20) Loss=0.01732 Rate=2266.65 GlobalRate=1987.48 Time=Wed May 13 22:36:52 2020\n[xla:5](20) Loss=0.10206 Rate=2122.52 GlobalRate=1995.49 Time=Wed May 13 22:36:52 2020\n[xla:3](20) Loss=0.08308 Rate=2389.47 GlobalRate=1998.14 Time=Wed May 13 22:36:52 2020\n[xla:2](20) Loss=0.08767 Rate=2387.94 GlobalRate=2008.75 Time=Wed May 13 22:36:52 2020\n[xla:0](40) Loss=0.08668 Rate=3239.28 GlobalRate=2618.35 Time=Wed May 13 22:36:53 2020\n[xla:5](40) Loss=0.02281 Rate=3218.51 GlobalRate=2630.22 Time=Wed May 13 22:36:53 2020\n[xla:1](40) Loss=0.03453 Rate=3335.21 GlobalRate=2646.19 Time=Wed May 13 22:36:53 2020\n[xla:3](40) Loss=0.06390 Rate=3324.40 GlobalRate=2632.25 Time=Wed May 13 22:36:53 2020\n[xla:4](40) Loss=0.01103 Rate=3337.01 GlobalRate=2640.58 Time=Wed May 13 22:36:53 2020\n[xla:2](40) Loss=0.04580 Rate=3325.16 GlobalRate=2642.16 Time=Wed May 13 22:36:53 2020\n[xla:7](40) Loss=0.02986 Rate=3337.27 GlobalRate=2648.48 Time=Wed May 13 22:36:53 2020\n[xla:6](40) Loss=0.04793 Rate=3272.87 GlobalRate=2621.90 Time=Wed May 13 22:36:53 2020\nFinished training epoch 5\n[xla:6] Accuracy=98.58%\n[xla:3] Accuracy=98.57%\n[xla:1] Accuracy=98.58%\n[xla:5] Accuracy=98.59%\n[xla:0] Accuracy=98.58%\n[xla:7] Accuracy=98.58%\n[xla:2] Accuracy=98.60%\n[xla:4] Accuracy=98.58%\n[xla:4](0) Loss=0.03909 Rate=228.33 GlobalRate=228.32 Time=Wed May 13 22:36:57 2020\n[xla:5](0) Loss=0.02075 Rate=220.87 GlobalRate=220.86 Time=Wed May 13 22:36:57 2020\n[xla:6](0) Loss=0.05392 Rate=204.08 GlobalRate=204.08 Time=Wed May 13 22:36:57 2020\n[xla:3](0) Loss=0.03077 Rate=207.22 GlobalRate=207.19 Time=Wed May 13 22:36:57 2020\n[xla:2](0) Loss=0.06984 Rate=197.34 GlobalRate=197.34 Time=Wed May 13 22:36:57 2020\n[xla:1](0) Loss=0.05106 Rate=194.64 GlobalRate=194.64 Time=Wed May 13 22:36:57 2020\n[xla:7](0) Loss=0.06578 Rate=195.34 GlobalRate=195.34 Time=Wed May 13 22:36:57 2020\n[xla:0](0) Loss=0.06757 Rate=194.75 GlobalRate=194.74 Time=Wed May 13 22:36:57 2020\n[xla:3](20) Loss=0.07505 Rate=2318.79 GlobalRate=2060.24 Time=Wed May 13 22:36:57 2020\n[xla:1](20) Loss=0.02566 Rate=2409.41 GlobalRate=2041.90 Time=Wed May 13 22:36:57 2020\n[xla:2](20) Loss=0.07776 Rate=2395.42 GlobalRate=2049.25 Time=Wed May 13 22:36:57 2020\n[xla:6](20) Loss=0.01331 Rate=2305.20 GlobalRate=2039.47 Time=Wed May 13 22:36:57 2020\n[xla:5](20) Loss=0.09133 Rate=2215.25 GlobalRate=2064.97 Time=Wed May 13 22:36:57 2020\n[xla:0](20) Loss=0.08304 Rate=2418.02 GlobalRate=2046.20 Time=Wed May 13 22:36:57 2020\n[xla:7](20) Loss=0.06027 Rate=2417.33 GlobalRate=2048.93 Time=Wed May 13 22:36:57 2020\n[xla:4](20) Loss=0.04400 Rate=2133.32 GlobalRate=2047.51 Time=Wed May 13 22:36:57 2020\n[xla:0](40) Loss=0.07843 Rate=3300.03 GlobalRate=2661.14 Time=Wed May 13 22:36:58 2020\n[xla:4](40) Loss=0.00907 Rate=3192.49 GlobalRate=2664.69 Time=Wed May 13 22:36:58 2020\n[xla:1](40) Loss=0.02631 Rate=3294.97 GlobalRate=2656.79 Time=Wed May 13 22:36:58 2020\n[xla:3](40) Loss=0.05217 Rate=3258.35 GlobalRate=2672.52 Time=Wed May 13 22:36:58 2020\n[xla:6](40) Loss=0.04634 Rate=3253.71 GlobalRate=2654.85 Time=Wed May 13 22:36:58 2020\n[xla:7](40) Loss=0.02400 Rate=3299.43 GlobalRate=2663.38 Time=Wed May 13 22:36:58 2020\n[xla:5](40) Loss=0.01813 Rate=3218.27 GlobalRate=2677.10 Time=Wed May 13 22:36:58 2020\n[xla:2](40) Loss=0.04330 Rate=3288.27 GlobalRate=2662.75 Time=Wed May 13 22:36:58 2020\nFinished training epoch 6\n[xla:3] Accuracy=98.71%\n[xla:1] Accuracy=98.74%\n[xla:4] Accuracy=98.73%\n[xla:6] Accuracy=98.72%\n[xla:5] Accuracy=98.72%\n[xla:2] Accuracy=98.75%\n[xla:0] Accuracy=98.73%\n[xla:7] Accuracy=98.74%\n[xla:6](0) Loss=0.04557 Rate=211.35 GlobalRate=211.35 Time=Wed May 13 22:37:02 2020\n[xla:3](0) Loss=0.02584 Rate=203.68 GlobalRate=203.67 Time=Wed May 13 22:37:02 2020\n[xla:1](0) Loss=0.04326 Rate=198.14 GlobalRate=198.13 Time=Wed May 13 22:37:02 2020\n[xla:2](0) Loss=0.06392 Rate=191.26 GlobalRate=191.25 Time=Wed May 13 22:37:02 2020\n[xla:5](0) Loss=0.01722 Rate=192.82 GlobalRate=192.82 Time=Wed May 13 22:37:02 2020\n[xla:0](0) Loss=0.06066 Rate=188.67 GlobalRate=188.67 Time=Wed May 13 22:37:02 2020\n[xla:4](0) Loss=0.03362 Rate=182.80 GlobalRate=182.79 Time=Wed May 13 22:37:02 2020\n[xla:7](0) Loss=0.05943 Rate=190.58 GlobalRate=190.57 Time=Wed May 13 22:37:02 2020\n[xla:7](20) Loss=0.05324 Rate=2411.23 GlobalRate=2021.85 Time=Wed May 13 22:37:02 2020\n[xla:1](20) Loss=0.02066 Rate=2219.58 GlobalRate=1971.14 Time=Wed May 13 22:37:02 2020\n[xla:2](20) Loss=0.06752 Rate=2331.62 GlobalRate=1990.53 Time=Wed May 13 22:37:02 2020\n[xla:3](20) Loss=0.06587 Rate=2168.70 GlobalRate=1970.15 Time=Wed May 13 22:37:02 2020\n[xla:6](20) Loss=0.01039 Rate=2127.20 GlobalRate=1979.97 Time=Wed May 13 22:37:02 2020\n[xla:4](20) Loss=0.03913 Rate=2404.88 GlobalRate=1977.98 Time=Wed May 13 22:37:02 2020\n[xla:0](20) Loss=0.07612 Rate=2399.10 GlobalRate=2006.73 Time=Wed May 13 22:37:02 2020\n[xla:5](20) Loss=0.08427 Rate=2339.80 GlobalRate=2001.95 Time=Wed May 13 22:37:02 2020\n[xla:5](40) Loss=0.01440 Rate=3269.47 GlobalRate=2622.80 Time=Wed May 13 22:37:03 2020\n[xla:3](40) Loss=0.04328 Rate=3199.80 GlobalRate=2594.26 Time=Wed May 13 22:37:03 2020\n[xla:6](40) Loss=0.04575 Rate=3182.82 GlobalRate=2602.82 Time=Wed May 13 22:37:03 2020\n[xla:0](40) Loss=0.06956 Rate=3292.03 GlobalRate=2626.60 Time=Wed May 13 22:37:03 2020\n[xla:7](40) Loss=0.02004 Rate=3295.42 GlobalRate=2639.26 Time=Wed May 13 22:37:03 2020\n[xla:2](40) Loss=0.04134 Rate=3263.68 GlobalRate=2611.82 Time=Wed May 13 22:37:03 2020\n[xla:1](40) Loss=0.02198 Rate=3218.50 GlobalRate=2594.53 Time=Wed May 13 22:37:03 2020\n[xla:4](40) Loss=0.00735 Rate=3287.13 GlobalRate=2598.59 Time=Wed May 13 22:37:03 2020\nFinished training epoch 7\n[xla:1] Accuracy=98.79%\n[xla:5] Accuracy=98.82%\n[xla:2] Accuracy=98.78%\n[xla:4] Accuracy=98.77%\n[xla:6] Accuracy=98.80%\n[xla:7] Accuracy=98.79%\n[xla:0] Accuracy=98.78%\n[xla:3] Accuracy=98.77%\n[xla:7](0) Loss=0.05476 Rate=239.74 GlobalRate=239.74 Time=Wed May 13 22:37:07 2020\n[xla:0](0) Loss=0.05548 Rate=226.69 GlobalRate=226.69 Time=Wed May 13 22:37:07 2020\n[xla:1](0) Loss=0.03747 Rate=205.92 GlobalRate=205.91 Time=Wed May 13 22:37:07 2020\n[xla:6](0) Loss=0.04040 Rate=191.84 GlobalRate=191.84 Time=Wed May 13 22:37:07 2020\n[xla:3](0) Loss=0.02114 Rate=192.40 GlobalRate=192.40 Time=Wed May 13 22:37:07 2020\n[xla:2](0) Loss=0.05745 Rate=192.31 GlobalRate=192.31 Time=Wed May 13 22:37:07 2020\n[xla:5](0) Loss=0.01487 Rate=187.90 GlobalRate=187.90 Time=Wed May 13 22:37:07 2020\n[xla:4](0) Loss=0.02912 Rate=189.21 GlobalRate=189.21 Time=Wed May 13 22:37:07 2020\n[xla:4](20) Loss=0.03605 Rate=2451.18 GlobalRate=2031.58 Time=Wed May 13 22:37:08 2020\n[xla:0](20) Loss=0.07124 Rate=2119.65 GlobalRate=2033.76 Time=Wed May 13 22:37:08 2020\n[xla:5](20) Loss=0.07639 Rate=2449.15 GlobalRate=2023.76 Time=Wed May 13 22:37:08 2020\n[xla:7](20) Loss=0.04890 Rate=2044.11 GlobalRate=2032.77 Time=Wed May 13 22:37:08 2020\n[xla:3](20) Loss=0.05719 Rate=2419.09 GlobalRate=2034.68 Time=Wed May 13 22:37:08 2020\n[xla:2](20) Loss=0.05970 Rate=2449.49 GlobalRate=2047.22 Time=Wed May 13 22:37:08 2020\n[xla:1](20) Loss=0.01887 Rate=2291.05 GlobalRate=2040.91 Time=Wed May 13 22:37:08 2020\n[xla:6](20) Loss=0.00848 Rate=2409.14 GlobalRate=2027.48 Time=Wed May 13 22:37:08 2020\n[xla:0](40) Loss=0.06041 Rate=3023.65 GlobalRate=2588.24 Time=Wed May 13 22:37:08 2020\n[xla:6](40) Loss=0.04556 Rate=3148.52 GlobalRate=2586.75 Time=Wed May 13 22:37:08 2020\n[xla:3](40) Loss=0.03857 Rate=3144.01 GlobalRate=2589.23 Time=Wed May 13 22:37:08 2020\n[xla:5](40) Loss=0.01232 Rate=3156.12 GlobalRate=2580.19 Time=Wed May 13 22:37:08 2020\n[xla:7](40) Loss=0.01801 Rate=2991.90 GlobalRate=2586.78 Time=Wed May 13 22:37:08 2020\n[xla:4](40) Loss=0.00637 Rate=3156.40 GlobalRate=2586.48 Time=Wed May 13 22:37:08 2020\n[xla:2](40) Loss=0.03783 Rate=3154.60 GlobalRate=2598.96 Time=Wed May 13 22:37:08 2020\n[xla:1](40) Loss=0.01897 Rate=3088.00 GlobalRate=2592.41 Time=Wed May 13 22:37:08 2020\nFinished training epoch 8\n[xla:1] Accuracy=98.84%\n[xla:0] Accuracy=98.85%\n[xla:7] Accuracy=98.86%\n[xla:5] Accuracy=98.82%\n[xla:4] Accuracy=98.84%\n[xla:6] Accuracy=98.85%\n[xla:3] Accuracy=98.83%\n[xla:2] Accuracy=98.85%\n[xla:4](0) Loss=0.02756 Rate=209.84 GlobalRate=209.84 Time=Wed May 13 22:37:12 2020\n[xla:3](0) Loss=0.01748 Rate=193.54 GlobalRate=193.53 Time=Wed May 13 22:37:12 2020\n[xla:2](0) Loss=0.05431 Rate=186.35 GlobalRate=186.34 Time=Wed May 13 22:37:12 2020\n[xla:1](0) Loss=0.03410 Rate=179.78 GlobalRate=179.77 Time=Wed May 13 22:37:12 2020\n[xla:0](0) Loss=0.05009 Rate=178.88 GlobalRate=178.88 Time=Wed May 13 22:37:12 2020\n[xla:5](0) Loss=0.01311 Rate=186.57 GlobalRate=186.57 Time=Wed May 13 22:37:12 2020\n[xla:6](0) Loss=0.03658 Rate=179.70 GlobalRate=179.70 Time=Wed May 13 22:37:12 2020\n[xla:7](0) Loss=0.05061 Rate=181.97 GlobalRate=181.97 Time=Wed May 13 22:37:12 2020\n[xla:0](20) Loss=0.06518 Rate=2435.53 GlobalRate=1968.76 Time=Wed May 13 22:37:13 2020\n[xla:1](20) Loss=0.01824 Rate=2420.40 GlobalRate=1967.71 Time=Wed May 13 22:37:13 2020\n[xla:4](20) Loss=0.03259 Rate=2170.83 GlobalRate=1997.00 Time=Wed May 13 22:37:13 2020\n[xla:5](20) Loss=0.07094 Rate=2442.59 GlobalRate=2013.89 Time=Wed May 13 22:37:13 2020\n[xla:6](20) Loss=0.00664 Rate=2454.03 GlobalRate=1980.70 Time=Wed May 13 22:37:13 2020\n[xla:7](20) Loss=0.04425 Rate=2447.93 GlobalRate=1990.95 Time=Wed May 13 22:37:13 2020\n[xla:3](20) Loss=0.05003 Rate=2280.30 GlobalRate=1978.44 Time=Wed May 13 22:37:13 2020\n[xla:2](20) Loss=0.05004 Rate=2398.26 GlobalRate=1994.20 Time=Wed May 13 22:37:13 2020\n[xla:5](40) Loss=0.01029 Rate=3276.17 GlobalRate=2620.33 Time=Wed May 13 22:37:13 2020\n[xla:6](40) Loss=0.04468 Rate=3281.00 GlobalRate=2591.48 Time=Wed May 13 22:37:13 2020\n[xla:3](40) Loss=0.03452 Rate=3217.88 GlobalRate=2591.85 Time=Wed May 13 22:37:13 2020\n[xla:4](40) Loss=0.00543 Rate=3166.53 GlobalRate=2605.28 Time=Wed May 13 22:37:13 2020\n[xla:2](40) Loss=0.03704 Rate=3263.06 GlobalRate=2604.92 Time=Wed May 13 22:37:13 2020\n[xla:0](40) Loss=0.05268 Rate=3272.64 GlobalRate=2580.63 Time=Wed May 13 22:37:13 2020\n[xla:7](40) Loss=0.01522 Rate=3282.67 GlobalRate=2601.97 Time=Wed May 13 22:37:13 2020\n[xla:1](40) Loss=0.01688 Rate=3264.15 GlobalRate=2578.82 Time=Wed May 13 22:37:13 2020\nFinished training epoch 9\n[xla:6] Accuracy=98.83%\n[xla:5] Accuracy=98.85%\n[xla:2] Accuracy=98.83%\n[xla:0] Accuracy=98.82%\n[xla:1] Accuracy=98.84%\n[xla:4] Accuracy=98.84%\n[xla:3] Accuracy=98.81%\n[xla:7] Accuracy=98.85%\n[xla:6](0) Loss=0.03156 Rate=226.63 GlobalRate=226.63 Time=Wed May 13 22:37:17 2020\n[xla:5](0) Loss=0.01197 Rate=211.60 GlobalRate=211.60 Time=Wed May 13 22:37:17 2020\n[xla:0](0) Loss=0.04641 Rate=211.22 GlobalRate=211.21 Time=Wed May 13 22:37:17 2020\n[xla:2](0) Loss=0.04971 Rate=197.89 GlobalRate=197.89 Time=Wed May 13 22:37:17 2020\n[xla:3](0) Loss=0.01499 Rate=199.82 GlobalRate=199.80 Time=Wed May 13 22:37:17 2020\n[xla:4](0) Loss=0.02718 Rate=194.04 GlobalRate=194.04 Time=Wed May 13 22:37:17 2020\n[xla:7](0) Loss=0.04941 Rate=196.84 GlobalRate=196.83 Time=Wed May 13 22:37:17 2020\n[xla:1](0) Loss=0.03118 Rate=192.59 GlobalRate=192.58 Time=Wed May 13 22:37:17 2020\n[xla:5](20) Loss=0.06364 Rate=2165.57 GlobalRate=2001.41 Time=Wed May 13 22:37:18 2020\n[xla:7](20) Loss=0.04100 Rate=2346.46 GlobalRate=2024.65 Time=Wed May 13 22:37:18 2020\n[xla:2](20) Loss=0.04364 Rate=2289.99 GlobalRate=2003.60 Time=Wed May 13 22:37:18 2020\n[xla:0](20) Loss=0.05998 Rate=2172.75 GlobalRate=2003.64 Time=Wed May 13 22:37:18 2020\n[xla:1](20) Loss=0.01567 Rate=2352.72 GlobalRate=2006.56 Time=Wed May 13 22:37:18 2020\n[xla:4](20) Loss=0.02994 Rate=2342.67 GlobalRate=2009.26 Time=Wed May 13 22:37:18 2020\n[xla:6](20) Loss=0.00565 Rate=2062.97 GlobalRate=2000.62 Time=Wed May 13 22:37:18 2020\n[xla:3](20) Loss=0.04510 Rate=2290.04 GlobalRate=2012.60 Time=Wed May 13 22:37:18 2020\n[xla:4](40) Loss=0.00461 Rate=3285.79 GlobalRate=2634.84 Time=Wed May 13 22:37:19 2020\n[xla:3](40) Loss=0.02990 Rate=3264.73 GlobalRate=2637.77 Time=Wed May 13 22:37:19 2020\n[xla:6](40) Loss=0.04273 Rate=3174.24 GlobalRate=2627.33 Time=Wed May 13 22:37:19 2020\n[xla:5](40) Loss=0.00876 Rate=3212.94 GlobalRate=2627.18 Time=Wed May 13 22:37:19 2020\n[xla:1](40) Loss=0.01477 Rate=3290.14 GlobalRate=2632.57 Time=Wed May 13 22:37:19 2020\n[xla:2](40) Loss=0.03382 Rate=3264.13 GlobalRate=2629.61 Time=Wed May 13 22:37:19 2020\n[xla:7](40) Loss=0.01328 Rate=3285.27 GlobalRate=2647.60 Time=Wed May 13 22:37:19 2020\n[xla:0](40) Loss=0.04425 Rate=3216.74 GlobalRate=2629.48 Time=Wed May 13 22:37:19 2020\nFinished training epoch 10\n[xla:4] Accuracy=98.85%\n[xla:0] Accuracy=98.85%\n[xla:1] Accuracy=98.83%\n[xla:5] Accuracy=98.86%\n[xla:2] Accuracy=98.83%\n[xla:3] Accuracy=98.83%\n[xla:7] Accuracy=98.85%\n[xla:6] Accuracy=98.83%\n"
    }
   ],
   "source": [
    "# Start training processes\n",
    "def _mp_fn(rank, flags):\n",
    "  global FLAGS\n",
    "  FLAGS = flags\n",
    "  torch.set_default_tensor_type('torch.FloatTensor')\n",
    "  accuracy, data, pred, target = train_mnist()\n",
    "  if rank == 0:\n",
    "    # Retrieve tensors that are on TPU core 0 and plot.\n",
    "    plot_results(data.cpu(), pred.cpu(), target.cpu())\n",
    "\n",
    "xmp.spawn(_mp_fn, args=(FLAGS,), nprocs=FLAGS['num_cores'],\n",
    "          start_method='fork')"
   ]
  },
  {
   "cell_type": "code",
   "execution_count": 11,
   "metadata": {},
   "outputs": [
    {
     "output_type": "display_data",
     "data": {
      "text/plain": "<PIL.Image.Image image mode=RGBA size=792x648 at 0x7F200886C780>",
      "image/png": "[encoded data removed]"
     },
     "metadata": {}
    }
   ],
   "source": [
    "import cv2\n",
    "from google.colab.patches import cv2_imshow\n",
    "\n",
    "img = cv2.imread(RESULT_IMG_PATH, cv2.IMREAD_UNCHANGED)\n",
    "cv2_imshow(img)"
   ]
  },
  {
   "cell_type": "code",
   "execution_count": 1,
   "metadata": {},
   "outputs": [],
   "source": [
    "import os"
   ]
  },
  {
   "cell_type": "code",
   "execution_count": 1,
   "metadata": {},
   "outputs": [],
   "source": [
    "inp=['how', 'did', 'the', 'schoolboys', 'stop', 'maclean', '?']\n",
    "opt=['what', 'was', 'the', 'name', 'of', 'the', 'first', 'synthetic', 'dye', '?']\n"
   ]
  },
  {
   "cell_type": "code",
   "execution_count": 2,
   "metadata": {},
   "outputs": [],
   "source": [
    "from nltk.translate.bleu_score import sentence_bleu\n"
   ]
  },
  {
   "cell_type": "code",
   "execution_count": 8,
   "metadata": {},
   "outputs": [
    {
     "output_type": "stream",
     "name": "stderr",
     "text": "/usr/local/lib/python3.6/dist-packages/nltk/translate/bleu_score.py:490: UserWarning: \nCorpus/Sentence contains 0 counts of 2-gram overlaps.\nBLEU scores might be undesirable; use SmoothingFunction().\n  warnings.warn(_msg)\n"
    },
    {
     "output_type": "execute_result",
     "data": {
      "text/plain": "0.668740304976422"
     },
     "metadata": {},
     "execution_count": 8
    }
   ],
   "source": [
    "sentence_bleu([inp],opt)"
   ]
  },
  {
   "cell_type": "code",
   "execution_count": 30,
   "metadata": {},
   "outputs": [
    {
     "output_type": "stream",
     "name": "stdout",
     "text": "Cumulative 4-gram: 0.707107\n/usr/local/lib/python3.6/dist-packages/nltk/translate/bleu_score.py:490: UserWarning: \nCorpus/Sentence contains 0 counts of 3-gram overlaps.\nBLEU scores might be undesirable; use SmoothingFunction().\n  warnings.warn(_msg)\n"
    }
   ],
   "source": [
    "# cumulative BLEU scores\n",
    "from nltk.translate.bleu_score import sentence_bleu,corpus_bleu\n",
    "reference = [['this', 'is', 'small', 'test']]\n",
    "candidate = ['this', 'is', 'a', 'test']\n",
    "\n",
    "print('Cumulative 4-gram: %f' % corpus_bleu([reference], [candidate]))"
   ]
  },
  {
   "cell_type": "code",
   "execution_count": 31,
   "metadata": {},
   "outputs": [],
   "source": [
    "from torchtext.data.metrics import bleu_score"
   ]
  },
  {
   "cell_type": "code",
   "execution_count": 33,
   "metadata": {},
   "outputs": [
    {
     "output_type": "execute_result",
     "data": {
      "text/plain": "0.0"
     },
     "metadata": {},
     "execution_count": 33
    }
   ],
   "source": [
    "bleu_score([candidate], [reference])"
   ]
  },
  {
   "cell_type": "code",
   "execution_count": 51,
   "metadata": {},
   "outputs": [],
   "source": [
    "candidate_corpus = ['this', 'is', 'the', 'test']"
   ]
  },
  {
   "cell_type": "code",
   "execution_count": 52,
   "metadata": {},
   "outputs": [],
   "source": [
    "references_corpus = ['this', 'is', 'a', 'test']"
   ]
  },
  {
   "cell_type": "code",
   "execution_count": 53,
   "metadata": {},
   "outputs": [
    {
     "output_type": "execute_result",
     "data": {
      "text/plain": "0.0"
     },
     "metadata": {},
     "execution_count": 53
    }
   ],
   "source": [
    "bleu_score(candidate_corpus, references_corpus)"
   ]
  },
  {
   "cell_type": "code",
   "execution_count": 54,
   "metadata": {},
   "outputs": [],
   "source": [
    "from collections import Counter\n",
    "import math\n",
    "import numpy as np\n",
    "import subprocess\n",
    "\n",
    "\n",
    "def bleu_stats(hypothesis, reference):\n",
    "    \"\"\"Compute statistics for BLEU.\"\"\"\n",
    "    stats = []\n",
    "    stats.append(len(hypothesis))\n",
    "    stats.append(len(reference))\n",
    "    for n in range(1, 5):\n",
    "        s_ngrams = Counter(\n",
    "            [tuple(hypothesis[i:i + n]) for i in range(len(hypothesis) + 1 - n)]\n",
    "        )\n",
    "        r_ngrams = Counter(\n",
    "            [tuple(reference[i:i + n]) for i in range(len(reference) + 1 - n)]\n",
    "        )\n",
    "        stats.append(max([sum((s_ngrams & r_ngrams).values()), 0]))\n",
    "        stats.append(max([len(hypothesis) + 1 - n, 0]))\n",
    "    return stats\n",
    "\n",
    "\n",
    "def bleu(stats):\n",
    "    \"\"\"Compute BLEU given n-gram statistics.\"\"\"\n",
    "    if len(list(filter(lambda x: x == 0, stats))) > 0:\n",
    "        return 0\n",
    "    (c, r) = stats[:2]\n",
    "    log_bleu_prec = sum(\n",
    "        [math.log(float(x) / y) for x, y in zip(stats[2::2], stats[3::2])]\n",
    "    ) / 4.\n",
    "    return math.exp(min([0, 1 - float(r) / c]) + log_bleu_prec)\n",
    "\n",
    "\n",
    "def get_bleu(hypotheses, reference):\n",
    "    \"\"\"Get validation BLEU score for dev set.\"\"\"\n",
    "    stats = np.array([0., 0., 0., 0., 0., 0., 0., 0., 0., 0.])\n",
    "    for hyp, ref in zip(hypotheses, reference):\n",
    "        stats += np.array(bleu_stats(hyp, ref))\n",
    "    return 100 * bleu(stats)"
   ]
  },
  {
   "cell_type": "code",
   "execution_count": 55,
   "metadata": {},
   "outputs": [
    {
     "output_type": "execute_result",
     "data": {
      "text/plain": "83.17648078335372"
     },
     "metadata": {},
     "execution_count": 55
    }
   ],
   "source": [
    "get_bleu(hypotheses=candidate_corpus,reference=references_corpus)"
   ]
  },
  {
   "cell_type": "code",
   "execution_count": 2,
   "metadata": {},
   "outputs": [],
   "source": [
    "import pandas as pd\n",
    "df=pd.read_csv(\"/root/Question_generation/src/saved_models/transformer/5/test_df_metrics.csv\")"
   ]
  },
  {
   "cell_type": "code",
   "execution_count": 3,
   "metadata": {},
   "outputs": [
    {
     "output_type": "execute_result",
     "data": {
      "text/html": "<div>\n<style scoped>\n    .dataframe tbody tr th:only-of-type {\n        vertical-align: middle;\n    }\n\n    .dataframe tbody tr th {\n        vertical-align: top;\n    }\n\n    .dataframe thead th {\n        text-align: right;\n    }\n</style>\n<table border=\"1\" class=\"dataframe\">\n  <thead>\n    <tr style=\"text-align: right;\">\n      <th></th>\n      <th>Unnamed: 0</th>\n      <th>input</th>\n      <th>output</th>\n      <th>pred</th>\n      <th>bleu</th>\n    </tr>\n  </thead>\n  <tbody>\n    <tr>\n      <th>0</th>\n      <td>0</td>\n      <td>there have been two major trends in the changi...</td>\n      <td>how many big trends are involved in how much t...</td>\n      <td>how many dogs have been in the last part of ?</td>\n      <td>16.694477</td>\n    </tr>\n    <tr>\n      <th>1</th>\n      <td>1</td>\n      <td>doug lombardi vp of marketing for valve has si...</td>\n      <td>who is valve s vp of marketing who says they w...</td>\n      <td>what has been criticized for the kinsey scale ?</td>\n      <td>0.000000</td>\n    </tr>\n    <tr>\n      <th>2</th>\n      <td>2</td>\n      <td>weather does not occur in the higher stratosph...</td>\n      <td>where on neptune does weather not occur ?</td>\n      <td>what is the maximum rate of the st . barts ?</td>\n      <td>0.000000</td>\n    </tr>\n    <tr>\n      <th>3</th>\n      <td>3</td>\n      <td>from 1721 this was the whig politician robert ...</td>\n      <td>what party did walpole belong to ?</td>\n      <td>who was the last republican senator ?</td>\n      <td>0.000000</td>\n    </tr>\n    <tr>\n      <th>4</th>\n      <td>4</td>\n      <td>the winning amateur director film, the cyborg ...</td>\n      <td>what prize was awarded to the winning amateur ...</td>\n      <td>how many oscar did the movie classics ?</td>\n      <td>0.000000</td>\n    </tr>\n  </tbody>\n</table>\n</div>",
      "text/plain": "   Unnamed: 0  ...       bleu\n0           0  ...  16.694477\n1           1  ...   0.000000\n2           2  ...   0.000000\n3           3  ...   0.000000\n4           4  ...   0.000000\n\n[5 rows x 5 columns]"
     },
     "metadata": {},
     "execution_count": 3
    }
   ],
   "source": [
    "df.head()"
   ]
  },
  {
   "cell_type": "code",
   "execution_count": 6,
   "metadata": {},
   "outputs": [
    {
     "output_type": "execute_result",
     "data": {
      "text/plain": "8.457652803648449"
     },
     "metadata": {},
     "execution_count": 6
    }
   ],
   "source": [
    "df.mean()[\"bleu\"]"
   ]
  },
  {
   "cell_type": "code",
   "execution_count": 3,
   "metadata": {},
   "outputs": [],
   "source": [
    "from src.utils import save_to_artifact "
   ]
  },
  {
   "cell_type": "code",
   "execution_count": 4,
   "metadata": {},
   "outputs": [],
   "source": [
    "save_to_artifact(\"transformer\",8)"
   ]
  },
  {
   "cell_type": "code",
   "execution_count": 2,
   "metadata": {},
   "outputs": [],
   "source": [
    "from src.test_metrics.pycocoevalcap.bleu import bleu"
   ]
  },
  {
   "cell_type": "code",
   "execution_count": 3,
   "metadata": {},
   "outputs": [],
   "source": [
    "bleu_scorer=bleu.Bleu()\n"
   ]
  },
  {
   "cell_type": "code",
   "execution_count": 29,
   "metadata": {},
   "outputs": [
    {
     "output_type": "stream",
     "name": "stdout",
     "text": "{'testlen': 6, 'reflen': 6, 'guess': [6, 4, 2, 1], 'correct': [6, 4, 2, 1]}\nratio: 0.9999999998333334\n[0.9999999996666668, 0.9999999996250001, 0.999999999527778, 0.9999999993541671]\n"
    }
   ],
   "source": [
    "bleu_score=bleu_scorer.compute_score({1:[\"Hello who are you\"],2:[\"whats up\"]},{1:[\"Hello who are you\"],2:[\"whats up\"]})\n",
    "print(bleu_score[0])"
   ]
  },
  {
   "cell_type": "code",
   "execution_count": 16,
   "metadata": {
    "tags": [
     "outputPrepend"
    ]
   },
   "outputs": [
    {
     "output_type": "stream",
     "name": "stdout",
     "text": "{'testlen': 1210293, 'reflen': 86726, 'guess': [1210293, 1198396, 1186499, 1174602], 'correct': [927, 0, 0, 0]}\nratio: 13.955365173073657\nBleu1 : 0.0007659302334228152 \nBleu2 : 7.99455750879407e-13 \nBleu3 : 8.13655370130694e-16 \nBleu4 : 2.602301951174219e-17 \n\n"
    }
   ],
   "source": [
    "def to_list(x):\n",
    "    return [x]\n",
    "df[\"output\"]=df[\"output\"].apply(to_list)\n",
    "df[\"pred\"]=df[\"pred\"].apply(to_list)\n",
    "\n",
    "x=df.to_dict()\n",
    "\n",
    "gts=x[\"output\"]\n",
    "res=x[\"pred\"]\n",
    "\n",
    "bleu_scorer=bleu.Bleu()\n",
    "\n",
    "\n",
    "bleu_score=bleu_scorer.compute_score(gts,res)\n",
    "print(f\"Bleu1 : {bleu_score[0][0]} \\nBleu2 : {bleu_score[0][1]} \\nBleu3 : {bleu_score[0][2]} \\nBleu4 : {bleu_score[0][3]} \\n\")"
   ]
  },
  {
   "cell_type": "code",
   "execution_count": 15,
   "metadata": {},
   "outputs": [],
   "source": [
    "import pandas as pd\n",
    "df=pd.read_csv(\"./src/saved_models/seq2seq/7/test_df.csv\")"
   ]
  },
  {
   "cell_type": "code",
   "execution_count": 9,
   "metadata": {},
   "outputs": [
    {
     "output_type": "error",
     "ename": "NameError",
     "evalue": "name 'gts' is not defined",
     "traceback": [
      "\u001b[0;31m---------------------------------------------------------------------------\u001b[0m",
      "\u001b[0;31mNameError\u001b[0m                                 Traceback (most recent call last)",
      "\u001b[0;32m<ipython-input-9-2ecb4dd453a2>\u001b[0m in \u001b[0;36m<module>\u001b[0;34m()\u001b[0m\n\u001b[0;32m----> 1\u001b[0;31m \u001b[0mgts\u001b[0m\u001b[0;34m.\u001b[0m\u001b[0mkeys\u001b[0m\u001b[0;34m(\u001b[0m\u001b[0;34m)\u001b[0m\u001b[0;34m\u001b[0m\u001b[0;34m\u001b[0m\u001b[0m\n\u001b[0m",
      "\u001b[0;31mNameError\u001b[0m: name 'gts' is not defined"
     ]
    }
   ],
   "source": [
    "gts.keys()"
   ]
  },
  {
   "cell_type": "code",
   "execution_count": 13,
   "metadata": {},
   "outputs": [
    {
     "output_type": "execute_result",
     "data": {
      "text/plain": "dict_keys(['Unnamed: 0', 'input', 'output', 'pred', 'bleu'])"
     },
     "metadata": {},
     "execution_count": 13
    }
   ],
   "source": [
    "x.keys()"
   ]
  },
  {
   "cell_type": "code",
   "execution_count": 23,
   "metadata": {
    "tags": [
     "outputPrepend"
    ]
   },
   "outputs": [
    {
     "output_type": "stream",
     "name": "stdout",
     "text": "[0.0007659302334228152, 7.99455750879407e-13, 8.13655370130694e-16, 2.602301951174219e-17]\n"
    }
   ],
   "source": [
    "print(bleu_score[0])"
   ]
  },
  {
   "cell_type": "code",
   "execution_count": 34,
   "metadata": {},
   "outputs": [],
   "source": [
    "\n",
    "import subprocess\n",
    "import pandas as pd\n",
    "\n",
    "def get_jobs():\n",
    "    def has_data(job_id):\n",
    "        process = subprocess.Popen(['gradient','jobs','artifacts','list','--id', job_id],\n",
    "                        stdout=subprocess.PIPE, \n",
    "                        stderr=subprocess.PIPE)\n",
    "        stdout, stderr = process.communicate()\n",
    "        return not(\"No data found\" in stdout.decode(\"utf-8\").split('\\r')[-2])\n",
    "\n",
    "    process = subprocess.Popen(['gradient','jobs','list','--project', 'Job Builder'],\n",
    "                        stdout=subprocess.PIPE, \n",
    "                        stderr=subprocess.PIPE)\n",
    "    stdout, stderr = process.communicate()\n",
    "    x=stdout.decode(\"utf-8\") \n",
    "    x=x.split(\"\\n\")\n",
    "    jobs=x[3:-1]\n",
    "    jobs=[[j.strip() for j in  i.split(\"|\")][1:-1] for i in jobs]\n",
    "    jobs=pd.DataFrame(jobs,columns=[\"id\",\"Name\",\"from\",\"location\",\"device\",\"time\"])\n",
    "    jobs[\"has_data\"]=jobs[\"id\"].apply(has_data)\n",
    "    return jobs"
   ]
  },
  {
   "cell_type": "code",
   "execution_count": 79,
   "metadata": {
    "tags": [
     "outputPrepend"
    ]
   },
   "outputs": [
    {
     "output_type": "execute_result",
     "data": {
      "text/plain": "                id  ... has_data\n0    jpzuxptwrj29g  ...    False\n1    jxxqmmwirf9lr  ...    False\n2   jsifntw9hsl4uo  ...    False\n3    j4nqncmkg7hnh  ...    False\n4   jsg3uo6ur73f09  ...    False\n5   jsdzhy8zewcqhk  ...    False\n6   jszg94gnb29n6m  ...    False\n7   jskz4g0bzeovf8  ...    False\n8   jsr33pg90zqv2u  ...    False\n9    jfs69h6dtl4zn  ...    False\n10   jlpt0bxq4xbnd  ...    False\n11  jslaud9jfiukso  ...    False\n12   j01xanfu4ytyu  ...    False\n13   jd3kjg8q9tmc9  ...    False\n14  js6yzbyg78mx65  ...    False\n15  jsband66u21v34  ...    False\n16  jstx4kivn53gv6  ...    False\n17  jsp7vr2aacyg75  ...    False\n18  jspy8nuxc10zdk  ...     True\n19   jlgm8zb9bkbr5  ...    False\n20   jyqgjfa5dojrf  ...    False\n21   j60yrh5xb4c4k  ...    False\n22   jskxtx7oexy58  ...     True\n23    jtxhdu53v2po  ...     True\n24   jh07eeyhihrvu  ...    False\n25  jsbhiweqxyghjp  ...    False\n26  jsbzoc25vjh3o2  ...    False\n27   jafvx4rq1qhbg  ...    False\n28   jn243333kp148  ...    False\n29   jkda4s46ulvji  ...     True\n30   jowi8r8v92lp4  ...    False\n31  jstuzattsrck0d  ...     True\n32  jsaeydpkyvn6vr  ...     True\n33   jbp5oi5jelquk  ...    False\n34   jqcs6nd92em5w  ...     True\n35   jsrm0nf95ai38  ...    False\n36   jnnddwaf0bwfk  ...    False\n37  js0c1wtgetwkpu  ...    False\n38   jjsb2omk2rr14  ...     True\n39  jspcrztmfk7486  ...    False\n40   jxwdub0p4px7o  ...     True\n41  jsk1w1mpe8i0tn  ...    False\n42   jbtu2yb6ud58f  ...    False\n43   jvu092a46e3g3  ...    False\n44   jyn8o77ej9r0d  ...    False\n45   j0iqrd9wv9y8f  ...    False\n46   jp6vjc2wtvngg  ...    False\n47   jnh9slki2xryj  ...    False\n48   j20oet0svr4zw  ...    False\n49  jsrbez6v9r0qiq  ...    False\n50   jcu3ltewc4jm0  ...    False\n51  jsquf8ws0h6ho0  ...     True\n\n[52 rows x 7 columns]",
      "text/html": "<div>\n<style scoped>\n    .dataframe tbody tr th:only-of-type {\n        vertical-align: middle;\n    }\n\n    .dataframe tbody tr th {\n        vertical-align: top;\n    }\n\n    .dataframe thead th {\n        text-align: right;\n    }\n</style>\n<table border=\"1\" class=\"dataframe\">\n  <thead>\n    <tr style=\"text-align: right;\">\n      <th></th>\n      <th>id</th>\n      <th>Name</th>\n      <th>from</th>\n      <th>location</th>\n      <th>device</th>\n      <th>time</th>\n      <th>has_data</th>\n    </tr>\n  </thead>\n  <tbody>\n    <tr>\n      <th>0</th>\n      <td>jpzuxptwrj29g</td>\n      <td>TRANSFORMER</td>\n      <td>Job Builder</td>\n      <td>PS Jobs on GCP</td>\n      <td>K80</td>\n      <td>2020-06-20T09:49:47.141Z</td>\n      <td>False</td>\n    </tr>\n    <tr>\n      <th>1</th>\n      <td>jxxqmmwirf9lr</td>\n      <td>Transformer - 3 layer</td>\n      <td>Job Builder</td>\n      <td>PS Jobs on GCP</td>\n      <td>P100</td>\n      <td>2020-06-20T10:05:03.044Z</td>\n      <td>False</td>\n    </tr>\n    <tr>\n      <th>2</th>\n      <td>jsifntw9hsl4uo</td>\n      <td>Clone - jnnddwaf0bwfk</td>\n      <td>Job Builder</td>\n      <td>PS Jobs on GCP</td>\n      <td>K80</td>\n      <td>2020-06-22T09:03:16.759Z</td>\n      <td>False</td>\n    </tr>\n    <tr>\n      <th>3</th>\n      <td>j4nqncmkg7hnh</td>\n      <td>Clone - jsifntw9hsl4uo</td>\n      <td>Job Builder</td>\n      <td>PS Jobs on GCP</td>\n      <td>P100</td>\n      <td>2020-06-22T09:10:54.134Z</td>\n      <td>False</td>\n    </tr>\n    <tr>\n      <th>4</th>\n      <td>jsg3uo6ur73f09</td>\n      <td>Clone - jowi8r8v92lp4</td>\n      <td>Job Builder</td>\n      <td>PS Jobs on GCP</td>\n      <td>GV100</td>\n      <td>2020-06-22T09:20:28.232Z</td>\n      <td>False</td>\n    </tr>\n    <tr>\n      <th>5</th>\n      <td>jsdzhy8zewcqhk</td>\n      <td>Clone - jsg3uo6ur73f09</td>\n      <td>Job Builder</td>\n      <td>PS Jobs on GCP</td>\n      <td>K80</td>\n      <td>2020-06-22T09:43:44.862Z</td>\n      <td>False</td>\n    </tr>\n    <tr>\n      <th>6</th>\n      <td>jszg94gnb29n6m</td>\n      <td>Clone - jjsb2omk2rr14</td>\n      <td>Job Builder</td>\n      <td>PS Jobs on GCP</td>\n      <td>P100</td>\n      <td>2020-06-22T17:07:25.805Z</td>\n      <td>False</td>\n    </tr>\n    <tr>\n      <th>7</th>\n      <td>jskz4g0bzeovf8</td>\n      <td>Clone - jsaeydpkyvn6vr</td>\n      <td>Job Builder</td>\n      <td>PS Jobs</td>\n      <td>V100</td>\n      <td>2020-06-22T06:34:48.104Z</td>\n      <td>False</td>\n    </tr>\n    <tr>\n      <th>8</th>\n      <td>jsr33pg90zqv2u</td>\n      <td>Clone - jnh9slki2xryj</td>\n      <td>Job Builder</td>\n      <td>PS Jobs on GCP</td>\n      <td>K80</td>\n      <td>2020-06-01T23:48:57.597Z</td>\n      <td>False</td>\n    </tr>\n    <tr>\n      <th>9</th>\n      <td>jfs69h6dtl4zn</td>\n      <td>Clone - jslaud9jfiukso</td>\n      <td>Job Builder</td>\n      <td>PS Jobs</td>\n      <td>P6000</td>\n      <td>2020-05-27T02:18:20.219Z</td>\n      <td>False</td>\n    </tr>\n    <tr>\n      <th>10</th>\n      <td>jlpt0bxq4xbnd</td>\n      <td>Transformer 2 Layers</td>\n      <td>Job Builder</td>\n      <td>PS Jobs</td>\n      <td>V100</td>\n      <td>2020-06-02T05:12:59.238Z</td>\n      <td>False</td>\n    </tr>\n    <tr>\n      <th>11</th>\n      <td>jslaud9jfiukso</td>\n      <td>Clone - jsband66u21v34</td>\n      <td>Job Builder</td>\n      <td>PS Jobs</td>\n      <td>P6000</td>\n      <td>2020-05-27T02:15:16.002Z</td>\n      <td>False</td>\n    </tr>\n    <tr>\n      <th>12</th>\n      <td>j01xanfu4ytyu</td>\n      <td>Clone - jsbzoc25vjh3o2</td>\n      <td>Job Builder</td>\n      <td>PS Jobs on GCP</td>\n      <td>K80</td>\n      <td>2020-06-02T03:47:36.518Z</td>\n      <td>False</td>\n    </tr>\n    <tr>\n      <th>13</th>\n      <td>jd3kjg8q9tmc9</td>\n      <td>Clone - jn243333kp148</td>\n      <td>Job Builder</td>\n      <td>PS Jobs on GCP</td>\n      <td>P100</td>\n      <td>2020-06-24T03:12:31.352Z</td>\n      <td>False</td>\n    </tr>\n    <tr>\n      <th>14</th>\n      <td>js6yzbyg78mx65</td>\n      <td>Transformer  3 Layer</td>\n      <td>Job Builder</td>\n      <td>PS Jobs</td>\n      <td>V100</td>\n      <td>2020-06-02T04:38:10.584Z</td>\n      <td>False</td>\n    </tr>\n    <tr>\n      <th>15</th>\n      <td>jsband66u21v34</td>\n      <td>Clone - jsbhiweqxyghjp</td>\n      <td>Job Builder</td>\n      <td>PS Jobs</td>\n      <td>P6000</td>\n      <td>2020-05-27T02:08:05.234Z</td>\n      <td>False</td>\n    </tr>\n    <tr>\n      <th>16</th>\n      <td>jstx4kivn53gv6</td>\n      <td>trnsfrmr</td>\n      <td>Job Builder</td>\n      <td>PS Jobs</td>\n      <td>GPU+</td>\n      <td>2020-06-20T10:12:23.828Z</td>\n      <td>False</td>\n    </tr>\n    <tr>\n      <th>17</th>\n      <td>jsp7vr2aacyg75</td>\n      <td>Clone - jowi8r8v92lp4</td>\n      <td>Job Builder</td>\n      <td>PS Jobs</td>\n      <td>V100</td>\n      <td>2020-06-22T10:05:19.296Z</td>\n      <td>False</td>\n    </tr>\n    <tr>\n      <th>18</th>\n      <td>jspy8nuxc10zdk</td>\n      <td>Transformer - 3 layer (More Epochs)</td>\n      <td>Job Builder</td>\n      <td>PS Jobs on GCP</td>\n      <td>P100</td>\n      <td>2020-07-07T09:22:16.568Z</td>\n      <td>True</td>\n    </tr>\n    <tr>\n      <th>19</th>\n      <td>jlgm8zb9bkbr5</td>\n      <td>job 2</td>\n      <td>Job Builder</td>\n      <td>PS Jobs on GCP</td>\n      <td>K80</td>\n      <td>2020-05-22T19:21:07.294Z</td>\n      <td>False</td>\n    </tr>\n    <tr>\n      <th>20</th>\n      <td>jyqgjfa5dojrf</td>\n      <td>Clone - js6yzbyg78mx65</td>\n      <td>Job Builder</td>\n      <td>PS Jobs</td>\n      <td>V100</td>\n      <td>2020-06-15T07:18:38.351Z</td>\n      <td>False</td>\n    </tr>\n    <tr>\n      <th>21</th>\n      <td>j60yrh5xb4c4k</td>\n      <td>Clone - js6yzbyg78mx65</td>\n      <td>Job Builder</td>\n      <td>PS Jobs</td>\n      <td>V100</td>\n      <td>2020-06-15T07:16:11.008Z</td>\n      <td>False</td>\n    </tr>\n    <tr>\n      <th>22</th>\n      <td>jskxtx7oexy58</td>\n      <td>Seq2seq</td>\n      <td>Job Builder</td>\n      <td>PS Jobs on GCP</td>\n      <td>P100</td>\n      <td>2020-07-08T04:08:37.779Z</td>\n      <td>True</td>\n    </tr>\n    <tr>\n      <th>23</th>\n      <td>jtxhdu53v2po</td>\n      <td>Transformer - 3 layer</td>\n      <td>Job Builder</td>\n      <td>PS Jobs</td>\n      <td>V100</td>\n      <td>2020-06-20T10:17:00.086Z</td>\n      <td>True</td>\n    </tr>\n    <tr>\n      <th>24</th>\n      <td>jh07eeyhihrvu</td>\n      <td>Seq2seq 2 Layers</td>\n      <td>Job Builder</td>\n      <td>PS Jobs</td>\n      <td>V100</td>\n      <td>2020-06-15T04:14:32.599Z</td>\n      <td>False</td>\n    </tr>\n    <tr>\n      <th>25</th>\n      <td>jsbhiweqxyghjp</td>\n      <td>Clone - jsrm0nf95ai38</td>\n      <td>Job Builder</td>\n      <td>PS Jobs</td>\n      <td>P6000</td>\n      <td>2020-05-27T02:02:12.114Z</td>\n      <td>False</td>\n    </tr>\n    <tr>\n      <th>26</th>\n      <td>jsbzoc25vjh3o2</td>\n      <td>Clone - jafvx4rq1qhbg</td>\n      <td>Job Builder</td>\n      <td>PS Jobs on GCP</td>\n      <td>GV100</td>\n      <td>2020-06-02T03:46:55.189Z</td>\n      <td>False</td>\n    </tr>\n    <tr>\n      <th>27</th>\n      <td>jafvx4rq1qhbg</td>\n      <td>Clone - jvu092a46e3g3</td>\n      <td>Job Builder</td>\n      <td>PS Jobs on GCP</td>\n      <td>P100</td>\n      <td>2020-06-02T03:09:05.903Z</td>\n      <td>False</td>\n    </tr>\n    <tr>\n      <th>28</th>\n      <td>jn243333kp148</td>\n      <td>Clone - jjsb2omk2rr14</td>\n      <td>Job Builder</td>\n      <td>PS Jobs on GCP</td>\n      <td>P100</td>\n      <td>2020-06-23T03:12:06.953Z</td>\n      <td>False</td>\n    </tr>\n    <tr>\n      <th>29</th>\n      <td>jkda4s46ulvji</td>\n      <td>Transformer - 3 layer NMT</td>\n      <td>Job Builder</td>\n      <td>PS Jobs</td>\n      <td>V100</td>\n      <td>2020-07-07T07:59:42.944Z</td>\n      <td>True</td>\n    </tr>\n    <tr>\n      <th>30</th>\n      <td>jowi8r8v92lp4</td>\n      <td>Clone - j4nqncmkg7hnh</td>\n      <td>Job Builder</td>\n      <td>PS Jobs</td>\n      <td>P5000</td>\n      <td>2020-06-22T09:14:44.956Z</td>\n      <td>False</td>\n    </tr>\n    <tr>\n      <th>31</th>\n      <td>jstuzattsrck0d</td>\n      <td>Transformer - 3 layer</td>\n      <td>Job Builder</td>\n      <td>PS Jobs</td>\n      <td>V100</td>\n      <td>2020-07-08T04:09:20.999Z</td>\n      <td>True</td>\n    </tr>\n    <tr>\n      <th>32</th>\n      <td>jsaeydpkyvn6vr</td>\n      <td>Seq2seq</td>\n      <td>Job Builder</td>\n      <td>PS Jobs</td>\n      <td>V100</td>\n      <td>2020-06-20T06:54:04.087Z</td>\n      <td>True</td>\n    </tr>\n    <tr>\n      <th>33</th>\n      <td>jbp5oi5jelquk</td>\n      <td>Clone - jspcrztmfk7486</td>\n      <td>Job Builder</td>\n      <td>PS Jobs</td>\n      <td>V100</td>\n      <td>2020-06-20T06:48:32.183Z</td>\n      <td>False</td>\n    </tr>\n    <tr>\n      <th>34</th>\n      <td>jqcs6nd92em5w</td>\n      <td>Clone - j60yrh5xb4c4k</td>\n      <td>Job Builder</td>\n      <td>PS Jobs</td>\n      <td>V100</td>\n      <td>2020-06-20T06:51:57.335Z</td>\n      <td>True</td>\n    </tr>\n    <tr>\n      <th>35</th>\n      <td>jsrm0nf95ai38</td>\n      <td>job 4</td>\n      <td>Job Builder</td>\n      <td>PS Jobs</td>\n      <td>P6000</td>\n      <td>2020-05-27T01:12:55.470Z</td>\n      <td>False</td>\n    </tr>\n    <tr>\n      <th>36</th>\n      <td>jnnddwaf0bwfk</td>\n      <td>Clone - jjsb2omk2rr14</td>\n      <td>Job Builder</td>\n      <td>PS Jobs</td>\n      <td>GPU+</td>\n      <td>2020-06-22T08:44:11.102Z</td>\n      <td>False</td>\n    </tr>\n    <tr>\n      <th>37</th>\n      <td>js0c1wtgetwkpu</td>\n      <td>job 3</td>\n      <td>Job Builder</td>\n      <td>PS Jobs on GCP</td>\n      <td>K80</td>\n      <td>2020-05-27T00:58:30.417Z</td>\n      <td>False</td>\n    </tr>\n    <tr>\n      <th>38</th>\n      <td>jjsb2omk2rr14</td>\n      <td>Seq2seq pretrained</td>\n      <td>Job Builder</td>\n      <td>PS Jobs</td>\n      <td>V100</td>\n      <td>2020-06-22T06:39:49.054Z</td>\n      <td>True</td>\n    </tr>\n    <tr>\n      <th>39</th>\n      <td>jspcrztmfk7486</td>\n      <td>Clone - jyqgjfa5dojrf</td>\n      <td>Job Builder</td>\n      <td>PS Jobs</td>\n      <td>V100</td>\n      <td>2020-06-15T08:01:12.519Z</td>\n      <td>False</td>\n    </tr>\n    <tr>\n      <th>40</th>\n      <td>jxwdub0p4px7o</td>\n      <td>Clone - jyqgjfa5dojrf</td>\n      <td>Job Builder</td>\n      <td>PS Jobs</td>\n      <td>V100</td>\n      <td>2020-06-20T06:51:57.308Z</td>\n      <td>True</td>\n    </tr>\n    <tr>\n      <th>41</th>\n      <td>jsk1w1mpe8i0tn</td>\n      <td>Transformer</td>\n      <td>Job Builder</td>\n      <td>PS Jobs</td>\n      <td>V100</td>\n      <td>2020-06-20T06:53:17.813Z</td>\n      <td>False</td>\n    </tr>\n    <tr>\n      <th>42</th>\n      <td>jbtu2yb6ud58f</td>\n      <td>Transformer 5 Layer</td>\n      <td>Job Builder</td>\n      <td>PS Jobs</td>\n      <td>V100</td>\n      <td>2020-06-02T03:57:56.632Z</td>\n      <td>False</td>\n    </tr>\n    <tr>\n      <th>43</th>\n      <td>jvu092a46e3g3</td>\n      <td>Clone - jsr33pg90zqv2u</td>\n      <td>Job Builder</td>\n      <td>PS Jobs on GCP</td>\n      <td>P100</td>\n      <td>2020-06-02T02:50:58.927Z</td>\n      <td>False</td>\n    </tr>\n    <tr>\n      <th>44</th>\n      <td>jyn8o77ej9r0d</td>\n      <td>Transformer - 12 layer</td>\n      <td>Job Builder</td>\n      <td>PS Jobs on GCP</td>\n      <td>P100</td>\n      <td>2020-07-07T21:45:47.546Z</td>\n      <td>False</td>\n    </tr>\n    <tr>\n      <th>45</th>\n      <td>j0iqrd9wv9y8f</td>\n      <td>Clone - jsaeydpkyvn6vr</td>\n      <td>Job Builder</td>\n      <td>PS Jobs</td>\n      <td>V100</td>\n      <td>2020-06-22T05:54:44.690Z</td>\n      <td>False</td>\n    </tr>\n    <tr>\n      <th>46</th>\n      <td>jp6vjc2wtvngg</td>\n      <td>Seq2seq  2 Layers</td>\n      <td>Job Builder</td>\n      <td>PS Jobs</td>\n      <td>V100</td>\n      <td>2020-06-15T04:11:03.822Z</td>\n      <td>False</td>\n    </tr>\n    <tr>\n      <th>47</th>\n      <td>jnh9slki2xryj</td>\n      <td>Clone - jfs69h6dtl4zn</td>\n      <td>Job Builder</td>\n      <td>PS Jobs</td>\n      <td>P6000</td>\n      <td>2020-05-27T02:22:25.637Z</td>\n      <td>False</td>\n    </tr>\n    <tr>\n      <th>48</th>\n      <td>j20oet0svr4zw</td>\n      <td>Transformer - 8 layer</td>\n      <td>Job Builder</td>\n      <td>PS Jobs on GCP</td>\n      <td>P100</td>\n      <td>2020-07-07T21:37:33.557Z</td>\n      <td>False</td>\n    </tr>\n    <tr>\n      <th>49</th>\n      <td>jsrbez6v9r0qiq</td>\n      <td>Clone - jspcrztmfk7486</td>\n      <td>Job Builder</td>\n      <td>PS Jobs</td>\n      <td>V100</td>\n      <td>2020-06-20T06:51:57.110Z</td>\n      <td>False</td>\n    </tr>\n    <tr>\n      <th>50</th>\n      <td>jcu3ltewc4jm0</td>\n      <td>job 1</td>\n      <td>Job Builder</td>\n      <td>PS Jobs on GCP</td>\n      <td>G1</td>\n      <td>2020-05-22T19:10:59.559Z</td>\n      <td>False</td>\n    </tr>\n    <tr>\n      <th>51</th>\n      <td>jsquf8ws0h6ho0</td>\n      <td>Transformer - 5 layer (More Epochs)</td>\n      <td>Job Builder</td>\n      <td>PS Jobs on GCP</td>\n      <td>P100</td>\n      <td>2020-07-07T17:21:20.635Z</td>\n      <td>True</td>\n    </tr>\n  </tbody>\n</table>\n</div>"
     },
     "metadata": {},
     "execution_count": 79
    }
   ],
   "source": [
    "def download_jobs(jobs,dir):\n",
    "    def download_job(job_id,download_dir):\n",
    "        process = subprocess.Popen(['gradient','jobs','artifacts','download','--id', job_id ,\"--destinationDir\" ,download_dir],\n",
    "                            stdout=subprocess.PIPE, \n",
    "                            stderr=subprocess.PIPE)\n",
    "        stdout, stderr = process.communicate()\n",
    "    to_download=jobs[jobs[\"has_data\"]]\n",
    "    job_list=to_download[\"id\"]\n",
    "    for job in job_list:\n",
    "        download_job(job,f\"./gradient/{job}\")\n",
    "    print(\"Jobs Downloaded\")\n",
    "    "
   ]
  },
  {
   "cell_type": "code",
   "execution_count": 87,
   "metadata": {},
   "outputs": [],
   "source": [
    "def download_job(job_id,download_dir):\n",
    "    process = subprocess.Popen(['gradient','jobs','artifacts','download','--id', job_id ,\"--destinationDir\" ,download_dir],\n",
    "                        stdout=subprocess.PIPE, \n",
    "                        stderr=subprocess.PIPE)\n",
    "    stdout, stderr = process.communicate()\n"
   ]
  },
  {
   "cell_type": "code",
   "execution_count": 88,
   "metadata": {},
   "outputs": [
    {
     "output_type": "stream",
     "name": "stdout",
     "text": "b'\\r\\r\\xe2\\xa0\\x8b Waiting for data...\\r\\r\\xe2\\xa0\\x99 Waiting for data...\\r\\r\\xe2\\xa0\\xb9 Waiting for data...\\r\\r\\xe2\\xa0\\xb8 Waiting for data...\\r\\r\\xe2\\xa0\\xbc Waiting for data...\\r\\r\\xe2\\xa0\\xb4 Waiting for data...\\r\\r\\xe2\\xa0\\xa6 Waiting for data...\\r\\r\\xe2\\xa0\\xa7 Waiting for data...\\r\\r\\xe2\\xa0\\x87 Waiting for data...\\r\\r\\xe2\\xa0\\x8f Waiting for data...Downloading: seq2seq/2/hp.json\\n\\r\\r\\xe2\\xa0\\x8b Waiting for data...\\r\\r\\xe2\\xa0\\x99 Waiting for data...\\r\\r\\xe2\\xa0\\xb9 Waiting for data...\\r\\r\\xe2\\xa0\\xb8 Waiting for data...Downloading: seq2seq/2/inpLang.p\\n\\r\\r\\xe2\\xa0\\xbc Waiting for data...\\r\\r\\xe2\\xa0\\xb4 Waiting for data...\\r\\r\\xe2\\xa0\\xa6 Waiting for data...\\r\\r\\xe2\\xa0\\xa7 Waiting for data...\\r\\r\\xe2\\xa0\\x87 Waiting for data...\\r\\r\\xe2\\xa0\\x8f Waiting for data...\\r\\r\\xe2\\xa0\\x8b Waiting for data...\\r\\r\\xe2\\xa0\\x99 Waiting for data...\\r\\r\\xe2\\xa0\\xb9 Waiting for data...\\r\\r\\xe2\\xa0\\xb8 Waiting for data...\\r\\r\\xe2\\xa0\\xbc Waiting for data...\\r\\r\\xe2\\xa0\\xb4 Waiting for data...\\r\\r\\xe2\\xa0\\xa6 Waiting for data...\\r\\r\\xe2\\xa0\\xa7 Waiting for data...\\r\\r\\xe2\\xa0\\x87 Waiting for data...\\r\\r\\xe2\\xa0\\x8f Waiting for data...\\r\\r\\xe2\\xa0\\x8b Waiting for data...\\r\\r\\xe2\\xa0\\x99 Waiting for data...\\r\\r\\xe2\\xa0\\xb9 Waiting for data...\\r\\r\\xe2\\xa0\\xb8 Waiting for data...\\r\\r\\xe2\\xa0\\xbc Waiting for data...\\r\\r\\xe2\\xa0\\xb4 Waiting for data...\\r\\r\\xe2\\xa0\\xa6 Waiting for data...\\r\\r\\xe2\\xa0\\xa7 Waiting for data...\\r\\r\\xe2\\xa0\\x87 Waiting for data...\\r\\r\\xe2\\xa0\\x8f Waiting for data...\\r\\r\\xe2\\xa0\\x8b Waiting for data...\\r\\r\\xe2\\xa0\\x99 Waiting for data...\\r\\r\\xe2\\xa0\\xb9 Waiting for data...\\r\\r\\xe2\\xa0\\xb8 Waiting for data...\\r\\r\\xe2\\xa0\\xbc Waiting for data...\\r\\r\\xe2\\xa0\\xb4 Waiting for data...\\r\\r\\xe2\\xa0\\xa6 Waiting for data...\\r\\r\\xe2\\xa0\\xa7 Waiting for data...\\r\\r\\xe2\\xa0\\x87 Waiting for data...\\r\\r\\xe2\\xa0\\x8f Waiting for data...\\r\\r\\xe2\\xa0\\x8b Waiting for data...\\r\\r\\xe2\\xa0\\x99 Waiting for data...\\r\\r\\xe2\\xa0\\xb9 Waiting for data...\\r\\r\\xe2\\xa0\\xb8 Waiting for data...\\r\\r\\xe2\\xa0\\xbc Waiting for data...\\r\\r\\xe2\\xa0\\xb4 Waiting for data...\\r\\r\\xe2\\xa0\\xa6 Waiting for data...\\r\\r\\xe2\\xa0\\xa7 Waiting for data...\\r\\r\\xe2\\xa0\\x87 Waiting for data...\\r\\r\\xe2\\xa0\\x8f Waiting for data...\\r\\r\\xe2\\xa0\\x8b Waiting for data...\\r\\r\\xe2\\xa0\\x99 Waiting for data...\\r\\r\\xe2\\xa0\\xb9 Waiting for data...\\r\\r\\xe2\\xa0\\xb8 Waiting for data...\\r\\r\\xe2\\xa0\\xbc Waiting for data...\\r\\r\\xe2\\xa0\\xb4 Waiting for data...\\r\\r\\xe2\\xa0\\xa6 Waiting for data...\\r\\r\\xe2\\xa0\\xa7 Waiting for data...\\r\\r\\xe2\\xa0\\x87 Waiting for data...\\r\\r\\xe2\\xa0\\x8f Waiting for data...\\r\\r\\xe2\\xa0\\x8b Waiting for data...\\r\\r\\xe2\\xa0\\x99 Waiting for data...\\r\\r\\xe2\\xa0\\xb9 Waiting for data...\\r\\r\\xe2\\xa0\\xb8 Waiting for data...\\r\\r\\xe2\\xa0\\xbc Waiting for data...\\r\\r\\xe2\\xa0\\xb4 Waiting for data...\\r\\r\\xe2\\xa0\\xa6 Waiting for data...\\r\\r\\xe2\\xa0\\xa7 Waiting for data...\\r\\r\\xe2\\xa0\\x87 Waiting for data...\\r\\r\\xe2\\xa0\\x8f Waiting for data...\\r\\r\\xe2\\xa0\\x8b Waiting for data...\\r\\r\\xe2\\xa0\\x99 Waiting for data...\\r\\r\\xe2\\xa0\\xb9 Waiting for data...\\r\\r\\xe2\\xa0\\xb8 Waiting for data...\\r\\r\\xe2\\xa0\\xbc Waiting for data...\\r\\r\\xe2\\xa0\\xb4 Waiting for data...\\r\\r\\xe2\\xa0\\xa6 Waiting for data...\\r\\r\\xe2\\xa0\\xa7 Waiting for data...\\r\\r\\xe2\\xa0\\x87 Waiting for data...\\r\\r\\xe2\\xa0\\x8f Waiting for data...\\r\\r\\xe2\\xa0\\x8b Waiting for data...\\r\\r\\xe2\\xa0\\x99 Waiting for data...\\r\\r\\xe2\\xa0\\xb9 Waiting for data...\\r\\r\\xe2\\xa0\\xb8 Waiting for data...\\r\\r\\xe2\\xa0\\xbc Waiting for data...\\r\\r\\xe2\\xa0\\xb4 Waiting for data...\\r\\r\\xe2\\xa0\\xa6 Waiting for data...\\r\\r\\xe2\\xa0\\xa7 Waiting for data...\\r\\r\\xe2\\xa0\\x87 Waiting for data...Downloading: seq2seq/2/optLang.p\\n\\r\\r\\xe2\\xa0\\x8f Waiting for data...\\r\\r\\xe2\\xa0\\x8b Waiting for data...\\r\\r\\xe2\\xa0\\x99 Waiting for data...\\r\\r\\xe2\\xa0\\xb9 Waiting for data...\\r\\r\\xe2\\xa0\\xb8 Waiting for data...\\r\\r\\xe2\\xa0\\xbc Waiting for data...\\r\\r\\xe2\\xa0\\xb4 Waiting for data...\\r\\r\\xe2\\xa0\\xa6 Waiting for data...\\r\\r\\xe2\\xa0\\xa7 Waiting for data...\\r\\r\\xe2\\xa0\\x87 Waiting for data...\\r\\r\\xe2\\xa0\\x8f Waiting for data...\\r\\r\\xe2\\xa0\\x8b Waiting for data...\\r\\r\\xe2\\xa0\\x99 Waiting for data...\\r\\r\\xe2\\xa0\\xb9 Waiting for data...\\r\\r\\xe2\\xa0\\xb8 Waiting for data...\\r\\r\\xe2\\xa0\\xbc Waiting for data...\\r\\r\\xe2\\xa0\\xb4 Waiting for data...\\r\\r\\xe2\\xa0\\xa6 Waiting for data...\\r\\r\\xe2\\xa0\\xa7 Waiting for data...\\r\\r\\xe2\\xa0\\x87 Waiting for data...\\r\\r\\xe2\\xa0\\x8f Waiting for data...\\r\\r\\xe2\\xa0\\x8b Waiting for data...\\r\\r\\xe2\\xa0\\x99 Waiting for data...\\r\\r\\xe2\\xa0\\xb9 Waiting for data...\\r\\r\\xe2\\xa0\\xb8 Waiting for data...\\r\\r\\xe2\\xa0\\xbc Waiting for data...\\r\\r\\xe2\\xa0\\xb4 Waiting for data...\\r\\r\\xe2\\xa0\\xa6 Waiting for data...\\r\\r\\xe2\\xa0\\xa7 Waiting for data...\\r\\r\\xe2\\xa0\\x87 Waiting for data...\\r\\r\\xe2\\xa0\\x8f Waiting for data...\\r\\r\\xe2\\xa0\\x8b Waiting for data...\\r\\r\\xe2\\xa0\\x99 Waiting for data...\\r\\r\\xe2\\xa0\\xb9 Waiting for data...\\r\\r\\xe2\\xa0\\xb8 Waiting for data...\\r\\r\\xe2\\xa0\\xbc Waiting for data...\\r\\r\\xe2\\xa0\\xb4 Waiting for data...\\r\\r\\xe2\\xa0\\xa6 Waiting for data...\\r\\r\\xe2\\xa0\\xa7 Waiting for data...\\r\\r\\xe2\\xa0\\x87 Waiting for data...\\r\\r\\xe2\\xa0\\x8f Waiting for data...\\r\\r\\xe2\\xa0\\x8b Waiting for data...\\r\\r\\xe2\\xa0\\x99 Waiting for data...\\r\\r\\xe2\\xa0\\xb9 Waiting for data...\\r\\r\\xe2\\xa0\\xb8 Waiting for data...\\r\\r\\xe2\\xa0\\xbc Waiting for data...\\r\\r\\xe2\\xa0\\xb4 Waiting for data...\\r\\r\\xe2\\xa0\\xa6 Waiting for data...\\r\\r\\xe2\\xa0\\xa7 Waiting for data...\\r\\r\\xe2\\xa0\\x87 Waiting for data...\\r\\r\\xe2\\xa0\\x8f Waiting for data...\\r\\r\\xe2\\xa0\\x8b Waiting for data...\\r\\r\\xe2\\xa0\\x99 Waiting for data...\\r\\r\\xe2\\xa0\\xb9 Waiting for data...\\r\\r\\xe2\\xa0\\xb8 Waiting for data...\\r\\r\\xe2\\xa0\\xbc Waiting for data...\\r\\r\\xe2\\xa0\\xb4 Waiting for data...\\r\\r\\xe2\\xa0\\xa6 Waiting for data...\\r\\r\\xe2\\xa0\\xa7 Waiting for data...\\r\\r\\xe2\\xa0\\x87 Waiting for data...\\r\\r\\xe2\\xa0\\x8f Waiting for data...\\r\\r\\xe2\\xa0\\x8b Waiting for data...\\r\\r\\xe2\\xa0\\x99 Waiting for data...\\r\\r\\xe2\\xa0\\xb9 Waiting for data...\\r\\r\\xe2\\xa0\\xb8 Waiting for data...\\r\\r\\xe2\\xa0\\xbc Waiting for data...\\r\\r\\xe2\\xa0\\xb4 Waiting for data...\\r\\r\\xe2\\xa0\\xa6 Waiting for data...\\r\\r\\xe2\\xa0\\xa7 Waiting for data...\\r\\r\\xe2\\xa0\\x87 Waiting for data...\\r\\r\\xe2\\xa0\\x8f Waiting for data...\\r\\r\\xe2\\xa0\\x8b Waiting for data...\\r\\r\\xe2\\xa0\\x99 Waiting for data...\\r\\r\\xe2\\xa0\\xb9 Waiting for data...\\r\\r\\xe2\\xa0\\xb8 Waiting for data...\\r\\r\\xe2\\xa0\\xbc Waiting for data...\\r\\r\\xe2\\xa0\\xb4 Waiting for data...\\r\\r\\xe2\\xa0\\xa6 Waiting for data...\\r\\r\\xe2\\xa0\\xa7 Waiting for data...\\r\\r\\xe2\\xa0\\x87 Waiting for data...\\r\\r\\xe2\\xa0\\x8f Waiting for data...\\r\\r\\xe2\\xa0\\x8b Waiting for data...\\r\\r\\xe2\\xa0\\x99 Waiting for data...\\r\\r\\xe2\\xa0\\xb9 Waiting for data...Downloading: seq2seq/2/seq2seq.pt\\n\\r\\r\\xe2\\xa0\\xb8 Waiting for data...\\r\\r\\xe2\\xa0\\xbc Waiting for data...\\r\\r\\xe2\\xa0\\xb4 Waiting for data...\\r\\r\\xe2\\xa0\\xa6 Waiting for data...\\r\\r\\xe2\\xa0\\xa7 Waiting for data...\\r\\r\\xe2\\xa0\\x87 Waiting for data...\\r\\r\\xe2\\xa0\\x8f Waiting for data...\\r\\r\\xe2\\xa0\\x8b Waiting for data...\\r\\r\\xe2\\xa0\\x99 Waiting for data...\\r\\r\\xe2\\xa0\\xb9 Waiting for data...\\r\\r\\xe2\\xa0\\xb8 Waiting for data...\\r\\r\\xe2\\xa0\\xbc Waiting for data...\\r\\r\\xe2\\xa0\\xb4 Waiting for data...\\r\\r\\xe2\\xa0\\xa6 Waiting for data...\\r\\r\\xe2\\xa0\\xa7 Waiting for data...\\r\\r\\xe2\\xa0\\x87 Waiting for data...\\r\\r\\xe2\\xa0\\x8f Waiting for data...\\r\\r\\xe2\\xa0\\x8b Waiting for data...\\r\\r\\xe2\\xa0\\x99 Waiting for data...\\r\\r\\xe2\\xa0\\xb9 Waiting for data...\\r\\r\\xe2\\xa0\\xb8 Waiting for data...\\r\\r\\xe2\\xa0\\xbc Waiting for data...\\r\\r\\xe2\\xa0\\xb4 Waiting for data...\\r\\r\\xe2\\xa0\\xa6 Waiting for data...\\r\\r\\xe2\\xa0\\xa7 Waiting for data...\\r\\r\\xe2\\xa0\\x87 Waiting for data...\\r\\r\\xe2\\xa0\\x8f Waiting for data...\\r\\r\\xe2\\xa0\\x8b Waiting for data...\\r\\r\\xe2\\xa0\\x99 Waiting for data...\\r\\r\\xe2\\xa0\\xb9 Waiting for data...\\r\\r\\xe2\\xa0\\xb8 Waiting for data...\\r\\r\\xe2\\xa0\\xbc Waiting for data...\\r\\r\\xe2\\xa0\\xb4 Waiting for data...\\r\\r\\xe2\\xa0\\xa6 Waiting for data...\\r\\r\\xe2\\xa0\\xa7 Waiting for data...\\r\\r\\xe2\\xa0\\x87 Waiting for data...\\r\\r\\xe2\\xa0\\x8f Waiting for data...\\r\\r\\xe2\\xa0\\x8b Waiting for data...\\r\\r\\xe2\\xa0\\x99 Waiting for data...\\r\\r\\xe2\\xa0\\xb9 Waiting for data...\\r\\r\\xe2\\xa0\\xb8 Waiting for data...\\r\\r\\xe2\\xa0\\xbc Waiting for data...\\r\\r\\xe2\\xa0\\xb4 Waiting for data...\\r\\r\\xe2\\xa0\\xa6 Waiting for data...\\r\\r\\xe2\\xa0\\xa7 Waiting for data...\\r\\r\\xe2\\xa0\\x87 Waiting for data...\\r\\r\\xe2\\xa0\\x8f Waiting for data...\\r\\r\\xe2\\xa0\\x8b Waiting for data...\\r\\r\\xe2\\xa0\\x99 Waiting for data...\\r\\r\\xe2\\xa0\\xb9 Waiting for data...\\r\\r\\xe2\\xa0\\xb8 Waiting for data...\\r\\r\\xe2\\xa0\\xbc Waiting for data...\\r\\r\\xe2\\xa0\\xb4 Waiting for data...\\r\\r\\xe2\\xa0\\xa6 Waiting for data...\\r\\r\\xe2\\xa0\\xa7 Waiting for data...\\r\\r\\xe2\\xa0\\x87 Waiting for data...\\r\\r\\xe2\\xa0\\x8f Waiting for data...\\r\\r\\xe2\\xa0\\x8b Waiting for data...\\r\\r\\xe2\\xa0\\x99 Waiting for data...\\r\\r\\xe2\\xa0\\xb9 Waiting for data...\\r\\r\\xe2\\xa0\\xb8 Waiting for data...\\r\\r\\xe2\\xa0\\xbc Waiting for data...\\r\\r\\xe2\\xa0\\xb4 Waiting for data...\\r\\r\\xe2\\xa0\\xa6 Waiting for data...\\r\\r\\xe2\\xa0\\xa7 Waiting for data...\\r\\r\\xe2\\xa0\\x87 Waiting for data...\\r\\r\\xe2\\xa0\\x8f Waiting for data...\\r\\r\\xe2\\xa0\\x8b Waiting for data...\\r\\r\\xe2\\xa0\\x99 Waiting for data...\\r\\r\\xe2\\xa0\\xb9 Waiting for data...\\r\\r\\xe2\\xa0\\xb8 Waiting for data...\\r\\r\\xe2\\xa0\\xbc Waiting for data...\\r\\r\\xe2\\xa0\\xb4 Waiting for data...\\r\\r\\xe2\\xa0\\xa6 Waiting for data...\\r\\r\\xe2\\xa0\\xa7 Waiting for data...\\r\\r\\xe2\\xa0\\x87 Waiting for data...\\r\\r\\xe2\\xa0\\x8f Waiting for data...\\r\\r\\xe2\\xa0\\x8b Waiting for data...\\r\\r\\xe2\\xa0\\x99 Waiting for data...\\r\\r\\xe2\\xa0\\xb9 Waiting for data...\\r\\r\\xe2\\xa0\\xb8 Waiting for data...\\r\\r\\xe2\\xa0\\xbc Waiting for data...\\r\\r\\xe2\\xa0\\xb4 Waiting for data...\\r\\r\\xe2\\xa0\\xa6 Waiting for data...\\r\\r\\xe2\\xa0\\xa7 Waiting for data...\\r\\r\\xe2\\xa0\\x87 Waiting for data...\\r\\r\\xe2\\xa0\\x8f Waiting for data...\\r\\r\\xe2\\xa0\\x8b Waiting for data...\\r\\r\\xe2\\xa0\\x99 Waiting for data...\\r\\r\\xe2\\xa0\\xb9 Waiting for data...\\r\\r\\xe2\\xa0\\xb8 Waiting for data...\\r\\r\\xe2\\xa0\\xbc Waiting for data...\\r\\r\\xe2\\xa0\\xb4 Waiting for data...\\r\\r\\xe2\\xa0\\xa6 Waiting for data...\\r\\r\\xe2\\xa0\\xa7 Waiting for data...\\r\\r\\xe2\\xa0\\x87 Waiting for data...\\r\\r\\xe2\\xa0\\x8f Waiting for data...\\r\\r\\xe2\\xa0\\x8b Waiting for data...\\r\\r\\xe2\\xa0\\x99 Waiting for data...\\r\\r\\xe2\\xa0\\xb9 Waiting for data...\\r\\r\\xe2\\xa0\\xb8 Waiting for data...\\r\\r\\xe2\\xa0\\xbc Waiting for data...\\r\\r\\xe2\\xa0\\xb4 Waiting for data...\\r\\r\\xe2\\xa0\\xa6 Waiting for data...\\r\\r\\xe2\\xa0\\xa7 Waiting for data...\\r\\r\\xe2\\xa0\\x87 Waiting for data...\\r\\r\\xe2\\xa0\\x8f Waiting for data...\\r\\r\\xe2\\xa0\\x8b Waiting for data...\\r\\r\\xe2\\xa0\\x99 Waiting for data...\\r\\r\\xe2\\xa0\\xb9 Waiting for data...\\r\\r\\xe2\\xa0\\xb8 Waiting for data...\\r\\r\\xe2\\xa0\\xbc Waiting for data...\\r\\r\\xe2\\xa0\\xb4 Waiting for data...\\r\\r\\xe2\\xa0\\xa6 Waiting for data...\\r\\r\\xe2\\xa0\\xa7 Waiting for data...\\r\\r\\xe2\\xa0\\x87 Waiting for data...\\r\\r\\xe2\\xa0\\x8f Waiting for data...\\r\\r\\xe2\\xa0\\x8b Waiting for data...\\r\\r\\xe2\\xa0\\x99 Waiting for data...\\r\\r\\xe2\\xa0\\xb9 Waiting for data...\\r\\r\\xe2\\xa0\\xb8 Waiting for data...\\r\\r\\xe2\\xa0\\xbc Waiting for data...\\r\\r\\xe2\\xa0\\xb4 Waiting for data...\\r\\r\\xe2\\xa0\\xa6 Waiting for data...\\r\\r\\xe2\\xa0\\xa7 Waiting for data...\\r\\r\\xe2\\xa0\\x87 Waiting for data...\\r\\r\\xe2\\xa0\\x8f Waiting for data...\\r\\r\\xe2\\xa0\\x8b Waiting for data...\\r\\r\\xe2\\xa0\\x99 Waiting for data...\\r\\r\\xe2\\xa0\\xb9 Waiting for data...\\r\\r\\xe2\\xa0\\xb8 Waiting for data...\\r\\r\\xe2\\xa0\\xbc Waiting for data...\\r\\r\\xe2\\xa0\\xb4 Waiting for data...\\r\\r\\xe2\\xa0\\xa6 Waiting for data...\\r\\r\\xe2\\xa0\\xa7 Waiting for data...\\r\\r\\xe2\\xa0\\x87 Waiting for data...\\r\\r\\xe2\\xa0\\x8f Waiting for data...\\r\\r\\xe2\\xa0\\x8b Waiting for data...\\r\\r\\xe2\\xa0\\x99 Waiting for data...\\r\\r\\xe2\\xa0\\xb9 Waiting for data...Downloading: seq2seq/2/test_df.csv\\n\\r\\r\\xe2\\xa0\\xb8 Waiting for data...\\r\\r\\xe2\\xa0\\xbc Waiting for data...\\r\\r\\xe2\\xa0\\xb4 Waiting for data...\\r\\r\\xe2\\xa0\\xa6 Waiting for data...\\r\\r\\xe2\\xa0\\xa7 Waiting for data...\\r\\r\\xe2\\xa0\\x87 Waiting for data...\\r\\r\\xe2\\xa0\\x8f Waiting for data...\\r\\r\\xe2\\xa0\\x8b Waiting for data...\\r\\r\\xe2\\xa0\\x99 Waiting for data...\\r\\r\\xe2\\xa0\\xb9 Waiting for data...\\r\\r\\xe2\\xa0\\xb8 Waiting for data...\\r\\r\\xe2\\xa0\\xbc Waiting for data...\\r\\r\\xe2\\xa0\\xb4 Waiting for data...Downloading: seq2seq/2/test_df_metrics.csv\\n\\r\\r\\xe2\\xa0\\xa6 Waiting for data...\\r\\r\\xe2\\xa0\\xa7 Waiting for data...\\r\\r\\xe2\\xa0\\x87 Waiting for data...\\r\\r\\xe2\\xa0\\x8f Waiting for data...Downloading: test_log.log\\n\\r\\r\\xe2\\xa0\\x8b Waiting for data...\\r\\r\\xe2\\xa0\\x99 Waiting for data...\\r\\r\\xe2\\xa0\\xb9 Waiting for data...\\r\\r\\xe2\\xa0\\xb8 Waiting for data...\\r\\r' b''\n"
    }
   ],
   "source": [
    "download_job(\"jjsb2omk2rr14\",\"./gradient/jjsb2omk2rr14\")"
   ]
  },
  {
   "cell_type": "code",
   "execution_count": 58,
   "metadata": {},
   "outputs": [],
   "source": [
    "\n"
   ]
  },
  {
   "cell_type": "code",
   "execution_count": 60,
   "metadata": {},
   "outputs": [
    {
     "output_type": "execute_result",
     "data": {
      "text/plain": "True"
     },
     "metadata": {},
     "execution_count": 60
    }
   ],
   "source": [
    "has_data(\"jspy8nuxc10zdk\")"
   ]
  },
  {
   "cell_type": "code",
   "execution_count": 77,
   "metadata": {},
   "outputs": [
    {
     "output_type": "execute_result",
     "data": {
      "text/plain": "                id  ... has_data\n18  jspy8nuxc10zdk  ...     True\n22   jskxtx7oexy58  ...     True\n23    jtxhdu53v2po  ...     True\n29   jkda4s46ulvji  ...     True\n31  jstuzattsrck0d  ...     True\n32  jsaeydpkyvn6vr  ...     True\n34   jqcs6nd92em5w  ...     True\n38   jjsb2omk2rr14  ...     True\n40   jxwdub0p4px7o  ...     True\n51  jsquf8ws0h6ho0  ...     True\n\n[10 rows x 7 columns]",
      "text/html": "<div>\n<style scoped>\n    .dataframe tbody tr th:only-of-type {\n        vertical-align: middle;\n    }\n\n    .dataframe tbody tr th {\n        vertical-align: top;\n    }\n\n    .dataframe thead th {\n        text-align: right;\n    }\n</style>\n<table border=\"1\" class=\"dataframe\">\n  <thead>\n    <tr style=\"text-align: right;\">\n      <th></th>\n      <th>id</th>\n      <th>Name</th>\n      <th>from</th>\n      <th>location</th>\n      <th>device</th>\n      <th>time</th>\n      <th>has_data</th>\n    </tr>\n  </thead>\n  <tbody>\n    <tr>\n      <th>18</th>\n      <td>jspy8nuxc10zdk</td>\n      <td>Transformer - 3 layer (More Epochs)</td>\n      <td>Job Builder</td>\n      <td>PS Jobs on GCP</td>\n      <td>P100</td>\n      <td>2020-07-07T09:22:16.568Z</td>\n      <td>True</td>\n    </tr>\n    <tr>\n      <th>22</th>\n      <td>jskxtx7oexy58</td>\n      <td>Seq2seq</td>\n      <td>Job Builder</td>\n      <td>PS Jobs on GCP</td>\n      <td>P100</td>\n      <td>2020-07-08T04:08:37.779Z</td>\n      <td>True</td>\n    </tr>\n    <tr>\n      <th>23</th>\n      <td>jtxhdu53v2po</td>\n      <td>Transformer - 3 layer</td>\n      <td>Job Builder</td>\n      <td>PS Jobs</td>\n      <td>V100</td>\n      <td>2020-06-20T10:17:00.086Z</td>\n      <td>True</td>\n    </tr>\n    <tr>\n      <th>29</th>\n      <td>jkda4s46ulvji</td>\n      <td>Transformer - 3 layer NMT</td>\n      <td>Job Builder</td>\n      <td>PS Jobs</td>\n      <td>V100</td>\n      <td>2020-07-07T07:59:42.944Z</td>\n      <td>True</td>\n    </tr>\n    <tr>\n      <th>31</th>\n      <td>jstuzattsrck0d</td>\n      <td>Transformer - 3 layer</td>\n      <td>Job Builder</td>\n      <td>PS Jobs</td>\n      <td>V100</td>\n      <td>2020-07-08T04:09:20.999Z</td>\n      <td>True</td>\n    </tr>\n    <tr>\n      <th>32</th>\n      <td>jsaeydpkyvn6vr</td>\n      <td>Seq2seq</td>\n      <td>Job Builder</td>\n      <td>PS Jobs</td>\n      <td>V100</td>\n      <td>2020-06-20T06:54:04.087Z</td>\n      <td>True</td>\n    </tr>\n    <tr>\n      <th>34</th>\n      <td>jqcs6nd92em5w</td>\n      <td>Clone - j60yrh5xb4c4k</td>\n      <td>Job Builder</td>\n      <td>PS Jobs</td>\n      <td>V100</td>\n      <td>2020-06-20T06:51:57.335Z</td>\n      <td>True</td>\n    </tr>\n    <tr>\n      <th>38</th>\n      <td>jjsb2omk2rr14</td>\n      <td>Seq2seq pretrained</td>\n      <td>Job Builder</td>\n      <td>PS Jobs</td>\n      <td>V100</td>\n      <td>2020-06-22T06:39:49.054Z</td>\n      <td>True</td>\n    </tr>\n    <tr>\n      <th>40</th>\n      <td>jxwdub0p4px7o</td>\n      <td>Clone - jyqgjfa5dojrf</td>\n      <td>Job Builder</td>\n      <td>PS Jobs</td>\n      <td>V100</td>\n      <td>2020-06-20T06:51:57.308Z</td>\n      <td>True</td>\n    </tr>\n    <tr>\n      <th>51</th>\n      <td>jsquf8ws0h6ho0</td>\n      <td>Transformer - 5 layer (More Epochs)</td>\n      <td>Job Builder</td>\n      <td>PS Jobs on GCP</td>\n      <td>P100</td>\n      <td>2020-07-07T17:21:20.635Z</td>\n      <td>True</td>\n    </tr>\n  </tbody>\n</table>\n</div>"
     },
     "metadata": {},
     "execution_count": 77
    }
   ],
   "source": [
    "jobs[jobs[\"has_data\"]]"
   ]
  },
  {
   "cell_type": "code",
   "execution_count": 138,
   "metadata": {},
   "outputs": [],
   "source": [
    "transient_dir = \"./gradient/\"\n",
    "import glob\n",
    "jobs = glob.glob(f\"{transient_dir}*\")\n"
   ]
  },
  {
   "cell_type": "code",
   "execution_count": 139,
   "metadata": {},
   "outputs": [
    {
     "output_type": "execute_result",
     "data": {
      "text/plain": "['./gradient/jsaeydpkyvn6vr',\n './gradient/jskxtx7oexy58',\n './gradient/jjsb2omk2rr14',\n './gradient/jtxhdu53v2po',\n './gradient/jqcs6nd92em5w',\n './gradient/jspy8nuxc10zdk',\n './gradient/jsquf8ws0h6ho0',\n './gradient/jxwdub0p4px7o',\n './gradient/jstuzattsrck0d',\n './gradient/jkda4s46ulvji']"
     },
     "metadata": {},
     "execution_count": 139
    }
   ],
   "source": [
    "jobs"
   ]
  },
  {
   "cell_type": "code",
   "execution_count": 91,
   "metadata": {},
   "outputs": [],
   "source": [
    "from src.utils import get_max_version"
   ]
  },
  {
   "cell_type": "code",
   "execution_count": 93,
   "metadata": {},
   "outputs": [
    {
     "output_type": "execute_result",
     "data": {
      "text/plain": "[0, 2, 1]"
     },
     "metadata": {},
     "execution_count": 93
    }
   ],
   "source": [
    "get_max_version(\"attn_seq2seq\")"
   ]
  },
  {
   "cell_type": "code",
   "execution_count": 144,
   "metadata": {},
   "outputs": [],
   "source": [
    "def copy_to_location(transient_dir):\n",
    "    jobs = glob.glob(f\"{transient_dir}*\")\n",
    "    for job_dir in jobs:\n",
    "        copy_to_saved(job_dir)\n",
    "    \n",
    "def copy_to_saved(job_dir):\n",
    "    try:\n",
    "        job_path = glob.glob(f\"{job_dir}/*/\")[0]\n",
    "        model_type = job_path.split(\"/\")[-2]\n",
    "        print(model_type)\n",
    "        _ver = get_max_version(model_type)\n",
    "        version = max(_ver)+1 if _ver!=[] else 0\n",
    "        model_path = f\"./src/saved_models/{model_type}/{str(version)}\"\n",
    "        os.makedirs(model_path)\n",
    "        print(model_path)\n",
    "        data_files = glob.glob(job_dir+f\"/{model_type}/*/*\")\n",
    "        for file_name in data_files:\n",
    "            shutil.copy(file_name,'%s/%s' % (model_path, file_name.split('/')[-1]))\n",
    "    except:\n",
    "        print(f\"Failed to load {job_dir}\")\n"
   ]
  },
  {
   "cell_type": "code",
   "execution_count": 145,
   "metadata": {},
   "outputs": [
    {
     "output_type": "stream",
     "name": "stdout",
     "text": "seq2seq\n./src/saved_models/seq2seq/0\n"
    }
   ],
   "source": [
    "copy_to_saved(\"./gradient/jsaeydpkyvn6vr\")"
   ]
  },
  {
   "cell_type": "code",
   "execution_count": null,
   "metadata": {},
   "outputs": [],
   "source": []
  }
 ],
 "metadata": {
  "language_info": {
   "codemirror_mode": {
    "name": "ipython",
    "version": 3
   },
   "file_extension": ".py",
   "mimetype": "text/x-python",
   "name": "python",
   "nbconvert_exporter": "python",
   "pygments_lexer": "ipython3",
   "version": "3.6.9-final"
  },
  "orig_nbformat": 2,
  "kernelspec": {
   "name": "python_defaultSpec_1594189612465",
   "display_name": "Python 3.6.9 64-bit"
  }
 },
 "nbformat": 4,
 "nbformat_minor": 2
}