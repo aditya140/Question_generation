{
 "cells": [
  {
   "cell_type": "code",
   "execution_count": 1,
   "metadata": {},
   "outputs": [],
   "source": [
    "from src import tpu_setup"
   ]
  },
  {
   "cell_type": "code",
   "execution_count": 5,
   "metadata": {},
   "outputs": [],
   "source": [
    "# Result Visualization Helper\n",
    "import math\n",
    "from matplotlib import pyplot as plt\n",
    "\n",
    "M, N = 4, 6\n",
    "RESULT_IMG_PATH = '/tmp/test_result.png'\n",
    "\n",
    "def plot_results(images, labels, preds):\n",
    "  images, labels, preds = images[:M*N], labels[:M*N], preds[:M*N]\n",
    "  inv_norm = transforms.Normalize((-0.1307/0.3081,), (1/0.3081,))\n",
    "\n",
    "  num_images = images.shape[0]\n",
    "  fig, axes = plt.subplots(M, N, figsize=(11, 9))\n",
    "  fig.suptitle('Correct / Predicted Labels (Red text for incorrect ones)')\n",
    "\n",
    "  for i, ax in enumerate(fig.axes):\n",
    "    ax.axis('off')\n",
    "    if i >= num_images:\n",
    "      continue\n",
    "    img, label, prediction = images[i], labels[i], preds[i]\n",
    "    img = inv_norm(img)\n",
    "    img = img.squeeze() # [1,Y,X] -> [Y,X]\n",
    "    label, prediction = label.item(), prediction.item()\n",
    "    if label == prediction:\n",
    "      ax.set_title(u'\\u2713', color='blue', fontsize=22)\n",
    "    else:\n",
    "      ax.set_title(\n",
    "          'X {}/{}'.format(label, prediction), color='red')\n",
    "    ax.imshow(img)\n",
    "  plt.savefig(RESULT_IMG_PATH, transparent=True)"
   ]
  },
  {
   "cell_type": "code",
   "execution_count": 6,
   "metadata": {},
   "outputs": [],
   "source": [
    "# Define Parameters\n",
    "FLAGS = {}\n",
    "FLAGS['datadir'] = \"/tmp/mnist\"\n",
    "FLAGS['batch_size'] = 128\n",
    "FLAGS['num_workers'] = 4\n",
    "FLAGS['learning_rate'] = 0.01\n",
    "FLAGS['momentum'] = 0.5\n",
    "FLAGS['num_epochs'] = 10\n",
    "FLAGS['num_cores'] = 8\n",
    "FLAGS['log_steps'] = 20\n",
    "FLAGS['metrics_debug'] = False"
   ]
  },
  {
   "cell_type": "code",
   "execution_count": 7,
   "metadata": {},
   "outputs": [],
   "source": [
    "import numpy as np\n",
    "import os\n",
    "import time\n",
    "import torch\n",
    "import torch.nn as nn\n",
    "import torch.nn.functional as F\n",
    "import torch.optim as optim\n",
    "import torch_xla\n",
    "import torch_xla.core.xla_model as xm\n",
    "import torch_xla.debug.metrics as met\n",
    "import torch_xla.distributed.parallel_loader as pl\n",
    "import torch_xla.distributed.xla_multiprocessing as xmp\n",
    "import torch_xla.utils.utils as xu\n",
    "from torchvision import datasets, transforms\n",
    "\n",
    "\n",
    "class MNIST(nn.Module):\n",
    "\n",
    "  def __init__(self):\n",
    "    super(MNIST, self).__init__()\n",
    "    self.conv1 = nn.Conv2d(1, 10, kernel_size=5)\n",
    "    self.bn1 = nn.BatchNorm2d(10)\n",
    "    self.conv2 = nn.Conv2d(10, 20, kernel_size=5)\n",
    "    self.bn2 = nn.BatchNorm2d(20)\n",
    "    self.fc1 = nn.Linear(320, 50)\n",
    "    self.fc2 = nn.Linear(50, 10)\n",
    "\n",
    "  def forward(self, x):\n",
    "    x = F.relu(F.max_pool2d(self.conv1(x), 2))\n",
    "    x = self.bn1(x)\n",
    "    x = F.relu(F.max_pool2d(self.conv2(x), 2))\n",
    "    x = self.bn2(x)\n",
    "    x = torch.flatten(x, 1)\n",
    "    x = F.relu(self.fc1(x))\n",
    "    x = self.fc2(x)\n",
    "    return F.log_softmax(x, dim=1)\n",
    "\n",
    "\n",
    "def train_mnist():\n",
    "  torch.manual_seed(1)\n",
    "  \n",
    "  if not xm.is_master_ordinal():\n",
    "    # Barrier: Wait until master is done downloading\n",
    "    xm.rendezvous('download_only_once')\n",
    "\n",
    "  # Get and shard dataset into dataloaders\n",
    "  norm = transforms.Normalize((0.1307,), (0.3081,))\n",
    "  train_dataset = datasets.MNIST(\n",
    "      FLAGS['datadir'],\n",
    "      train=True,\n",
    "      download=True,\n",
    "      transform=transforms.Compose(\n",
    "          [transforms.ToTensor(), norm]))\n",
    "  test_dataset = datasets.MNIST(\n",
    "      FLAGS['datadir'],\n",
    "      train=False,\n",
    "      download=True,\n",
    "      transform=transforms.Compose(\n",
    "          [transforms.ToTensor(), norm]))\n",
    "  \n",
    "  if xm.is_master_ordinal():\n",
    "    # Barrier: Master done downloading, other workers can proceed\n",
    "    xm.rendezvous('download_only_once')\n",
    "\n",
    "  train_sampler = torch.utils.data.distributed.DistributedSampler(\n",
    "    train_dataset,\n",
    "    num_replicas=xm.xrt_world_size(),\n",
    "    rank=xm.get_ordinal(),\n",
    "    shuffle=True)\n",
    "  train_loader = torch.utils.data.DataLoader(\n",
    "      train_dataset,\n",
    "      batch_size=FLAGS['batch_size'],\n",
    "      sampler=train_sampler,\n",
    "      num_workers=FLAGS['num_workers'],\n",
    "      drop_last=True)\n",
    "  test_loader = torch.utils.data.DataLoader(\n",
    "      test_dataset,\n",
    "      batch_size=FLAGS['batch_size'],\n",
    "      shuffle=False,\n",
    "      num_workers=FLAGS['num_workers'],\n",
    "      drop_last=True)\n",
    "\n",
    "  # Scale learning rate to world size\n",
    "  lr = FLAGS['learning_rate'] * xm.xrt_world_size()\n",
    "\n",
    "  # Get loss function, optimizer, and model\n",
    "  device = xm.xla_device()\n",
    "  model = MNIST().to(device)\n",
    "  optimizer = optim.SGD(model.parameters(), lr=lr, momentum=FLAGS['momentum'])\n",
    "  loss_fn = nn.NLLLoss()\n",
    "\n",
    "  def train_loop_fn(loader):\n",
    "    tracker = xm.RateTracker()\n",
    "    model.train()\n",
    "    for x, (data, target) in enumerate(loader):\n",
    "      optimizer.zero_grad()\n",
    "      output = model(data)\n",
    "      loss = loss_fn(output, target)\n",
    "      loss.backward()\n",
    "      xm.optimizer_step(optimizer)\n",
    "      tracker.add(FLAGS['batch_size'])\n",
    "      if x % FLAGS['log_steps'] == 0:\n",
    "        print('[xla:{}]({}) Loss={:.5f} Rate={:.2f} GlobalRate={:.2f} Time={}'.format(\n",
    "            xm.get_ordinal(), x, loss.item(), tracker.rate(),\n",
    "            tracker.global_rate(), time.asctime()), flush=True)\n",
    "\n",
    "  def test_loop_fn(loader):\n",
    "    total_samples = 0\n",
    "    correct = 0\n",
    "    model.eval()\n",
    "    data, pred, target = None, None, None\n",
    "    for data, target in loader:\n",
    "      output = model(data)\n",
    "      pred = output.max(1, keepdim=True)[1]\n",
    "      correct += pred.eq(target.view_as(pred)).sum().item()\n",
    "      total_samples += data.size()[0]\n",
    "\n",
    "    accuracy = 100.0 * correct / total_samples\n",
    "    print('[xla:{}] Accuracy={:.2f}%'.format(\n",
    "        xm.get_ordinal(), accuracy), flush=True)\n",
    "    return accuracy, data, pred, target\n",
    "\n",
    "  # Train and eval loops\n",
    "  accuracy = 0.0\n",
    "  data, pred, target = None, None, None\n",
    "  for epoch in range(1, FLAGS['num_epochs'] + 1):\n",
    "    para_loader = pl.ParallelLoader(train_loader, [device])\n",
    "    train_loop_fn(para_loader.per_device_loader(device))\n",
    "    xm.master_print(\"Finished training epoch {}\".format(epoch))\n",
    "\n",
    "    para_loader = pl.ParallelLoader(test_loader, [device])\n",
    "    accuracy, data, pred, target  = test_loop_fn(para_loader.per_device_loader(device))\n",
    "    if FLAGS['metrics_debug']:\n",
    "      xm.master_print(met.metrics_report(), flush=True)\n",
    "\n",
    "  return accuracy, data, pred, target"
   ]
  },
  {
   "cell_type": "code",
   "execution_count": 8,
   "metadata": {
    "tags": [
     "outputPrepend",
     "outputPrepend",
     "outputPrepend",
     "outputPrepend",
     "outputPrepend",
     "outputPrepend",
     "outputPrepend",
     "outputPrepend",
     "outputPrepend",
     "outputPrepend",
     "outputPrepend",
     "outputPrepend",
     "outputPrepend",
     "outputPrepend",
     "outputPrepend",
     "outputPrepend",
     "outputPrepend",
     "outputPrepend",
     "outputPrepend",
     "outputPrepend",
     "outputPrepend",
     "outputPrepend",
     "outputPrepend",
     "outputPrepend",
     "outputPrepend",
     "outputPrepend",
     "outputPrepend",
     "outputPrepend",
     "outputPrepend",
     "outputPrepend",
     "outputPrepend",
     "outputPrepend",
     "outputPrepend",
     "outputPrepend",
     "outputPrepend",
     "outputPrepend",
     "outputPrepend",
     "outputPrepend",
     "outputPrepend",
     "outputPrepend",
     "outputPrepend",
     "outputPrepend",
     "outputPrepend",
     "outputPrepend",
     "outputPrepend",
     "outputPrepend"
    ]
   },
   "outputs": [
    {
     "output_type": "stream",
     "name": "stdout",
     "text": " GlobalRate=186.27 Time=Wed May 13 22:36:36 2020\n[xla:2](0) Loss=0.17236 Rate=180.31 GlobalRate=180.30 Time=Wed May 13 22:36:36 2020\n[xla:6](20) Loss=0.06498 Rate=2428.21 GlobalRate=1969.62 Time=Wed May 13 22:36:37 2020\n[xla:5](20) Loss=0.15600 Rate=2433.74 GlobalRate=2008.61 Time=Wed May 13 22:36:37 2020\n[xla:0](20) Loss=0.13816 Rate=2410.88 GlobalRate=1970.47 Time=Wed May 13 22:36:37 2020\n[xla:7](20) Loss=0.14673 Rate=2374.59 GlobalRate=1970.62 Time=Wed May 13 22:36:37 2020\n[xla:3](20) Loss=0.15537 Rate=2395.19 GlobalRate=1977.63 Time=Wed May 13 22:36:37 2020\n[xla:1](20) Loss=0.08047 Rate=2194.95 GlobalRate=1986.06 Time=Wed May 13 22:36:37 2020\n[xla:4](20) Loss=0.13028 Rate=2418.67 GlobalRate=2024.38 Time=Wed May 13 22:36:37 2020\n[xla:2](20) Loss=0.15555 Rate=2421.44 GlobalRate=1971.08 Time=Wed May 13 22:36:37 2020\n[xla:5](40) Loss=0.08765 Rate=3237.39 GlobalRate=2602.24 Time=Wed May 13 22:36:38 2020\n[xla:4](40) Loss=0.04056 Rate=3245.25 GlobalRate=2621.18 Time=Wed May 13 22:36:38 2020\n[xla:7](40) Loss=0.09238 Rate=3214.30 GlobalRate=2569.60 Time=Wed May 13 22:36:38 2020\n[xla:1](40) Loss=0.10042 Rate=3142.80 GlobalRate=2583.14 Time=Wed May 13 22:36:38 2020\n[xla:6](40) Loss=0.09438 Rate=3230.81 GlobalRate=2566.87 Time=Wed May 13 22:36:38 2020\n[xla:0](40) Loss=0.13855 Rate=3208.54 GlobalRate=2561.78 Time=Wed May 13 22:36:38 2020\n[xla:3](40) Loss=0.13374 Rate=3197.94 GlobalRate=2566.31 Time=Wed May 13 22:36:38 2020\n[xla:2](40) Loss=0.09811 Rate=3219.06 GlobalRate=2564.71 Time=Wed May 13 22:36:38 2020\nFinished training epoch 2\n[xla:1] Accuracy=97.80%\n[xla:2] Accuracy=97.85%\n[xla:0] Accuracy=97.80%\n[xla:7] Accuracy=97.80%\n[xla:6] Accuracy=97.81%\n[xla:5] Accuracy=97.80%\n[xla:4] Accuracy=97.82%\n[xla:3] Accuracy=97.84%\n[xla:6](0) Loss=0.11059 Rate=234.53 GlobalRate=234.53 Time=Wed May 13 22:36:41 2020\n[xla:2](0) Loss=0.10862 Rate=229.19 GlobalRate=229.18 Time=Wed May 13 22:36:41 2020\n[xla:0](0) Loss=0.11319 Rate=217.97 GlobalRate=217.97 Time=Wed May 13 22:36:42 2020\n[xla:5](0) Loss=0.06849 Rate=223.20 GlobalRate=223.20 Time=Wed May 13 22:36:42 2020\n[xla:1](0) Loss=0.10934 Rate=210.32 GlobalRate=210.31 Time=Wed May 13 22:36:42 2020\n[xla:7](0) Loss=0.11960 Rate=207.82 GlobalRate=207.81 Time=Wed May 13 22:36:42 2020\n[xla:4](0) Loss=0.06589 Rate=209.12 GlobalRate=209.11 Time=Wed May 13 22:36:42 2020\n[xla:3](0) Loss=0.06587 Rate=208.87 GlobalRate=208.87 Time=Wed May 13 22:36:42 2020\n[xla:4](20) Loss=0.07899 Rate=2437.73 GlobalRate=2125.58 Time=Wed May 13 22:36:42 2020\n[xla:1](20) Loss=0.04471 Rate=2437.06 GlobalRate=2130.92 Time=Wed May 13 22:36:42 2020\n[xla:0](20) Loss=0.10737 Rate=2368.24 GlobalRate=2132.28 Time=Wed May 13 22:36:42 2020\n[xla:3](20) Loss=0.11275 Rate=2447.25 GlobalRate=2128.84 Time=Wed May 13 22:36:42 2020\n[xla:5](20) Loss=0.12368 Rate=2370.34 GlobalRate=2155.83 Time=Wed May 13 22:36:42 2020\n[xla:2](20) Loss=0.11635 Rate=2247.65 GlobalRate=2114.97 Time=Wed May 13 22:36:42 2020\n[xla:7](20) Loss=0.10244 Rate=2435.85 GlobalRate=2118.53 Time=Wed May 13 22:36:42 2020\n[xla:6](20) Loss=0.03518 Rate=2249.52 GlobalRate=2136.20 Time=Wed May 13 22:36:42 2020\n[xla:3](40) Loss=0.10074 Rate=3281.29 GlobalRate=2719.46 Time=Wed May 13 22:36:43 2020\n[xla:4](40) Loss=0.02133 Rate=3276.87 GlobalRate=2716.49 Time=Wed May 13 22:36:43 2020\n[xla:1](40) Loss=0.07026 Rate=3277.26 GlobalRate=2721.22 Time=Wed May 13 22:36:43 2020\n[xla:0](40) Loss=0.11123 Rate=3249.94 GlobalRate=2722.44 Time=Wed May 13 22:36:43 2020\n[xla:5](40) Loss=0.05088 Rate=3250.63 GlobalRate=2741.97 Time=Wed May 13 22:36:43 2020\n[xla:2](40) Loss=0.06945 Rate=3202.15 GlobalRate=2708.13 Time=Wed May 13 22:36:43 2020\n[xla:7](40) Loss=0.05435 Rate=3277.10 GlobalRate=2710.98 Time=Wed May 13 22:36:43 2020\n[xla:6](40) Loss=0.06025 Rate=3204.23 GlobalRate=2726.44 Time=Wed May 13 22:36:43 2020\nFinished training epoch 3\n[xla:6] Accuracy=98.31%\n[xla:0] Accuracy=98.31%\n[xla:3] Accuracy=98.33%\n[xla:1] Accuracy=98.27%\n[xla:5] Accuracy=98.27%\n[xla:4] Accuracy=98.32%\n[xla:2] Accuracy=98.33%\n[xla:7] Accuracy=98.29%\n[xla:6](0) Loss=0.08172 Rate=212.05 GlobalRate=212.05 Time=Wed May 13 22:36:47 2020\n[xla:3](0) Loss=0.04724 Rate=197.71 GlobalRate=197.70 Time=Wed May 13 22:36:47 2020\n[xla:5](0) Loss=0.03962 Rate=195.42 GlobalRate=195.41 Time=Wed May 13 22:36:47 2020\n[xla:2](0) Loss=0.08668 Rate=188.52 GlobalRate=188.52 Time=Wed May 13 22:36:47 2020\n[xla:1](0) Loss=0.07963 Rate=186.55 GlobalRate=186.54 Time=Wed May 13 22:36:47 2020\n[xla:0](0) Loss=0.09050 Rate=184.85 GlobalRate=184.85 Time=Wed May 13 22:36:47 2020\n[xla:7](0) Loss=0.09119 Rate=187.18 GlobalRate=187.18 Time=Wed May 13 22:36:47 2020\n[xla:4](0) Loss=0.05239 Rate=185.43 GlobalRate=185.43 Time=Wed May 13 22:36:47 2020\n[xla:6](20) Loss=0.02294 Rate=2151.13 GlobalRate=1995.57 Time=Wed May 13 22:36:47 2020\n[xla:3](20) Loss=0.09489 Rate=2280.52 GlobalRate=1998.27 Time=Wed May 13 22:36:47 2020\n[xla:0](20) Loss=0.09733 Rate=2420.46 GlobalRate=1995.48 Time=Wed May 13 22:36:47 2020\n[xla:5](20) Loss=0.11088 Rate=2315.60 GlobalRate=2003.69 Time=Wed May 13 22:36:47 2020\n[xla:1](20) Loss=0.03518 Rate=2409.32 GlobalRate=1999.89 Time=Wed May 13 22:36:47 2020\n[xla:7](20) Loss=0.08161 Rate=2435.70 GlobalRate=2014.29 Time=Wed May 13 22:36:47 2020\n[xla:4](20) Loss=0.06123 Rate=2439.78 GlobalRate=2006.56 Time=Wed May 13 22:36:47 2020\n[xla:2](20) Loss=0.09918 Rate=2410.36 GlobalRate=2010.77 Time=Wed May 13 22:36:47 2020\n[xla:7](40) Loss=0.03801 Rate=3293.29 GlobalRate=2628.18 Time=Wed May 13 22:36:48 2020\n[xla:6](40) Loss=0.05097 Rate=3179.69 GlobalRate=2611.89 Time=Wed May 13 22:36:48 2020\n[xla:5](40) Loss=0.03330 Rate=3245.77 GlobalRate=2619.11 Time=Wed May 13 22:36:48 2020\n[xla:3](40) Loss=0.07851 Rate=3231.12 GlobalRate=2614.14 Time=Wed May 13 22:36:48 2020\n[xla:1](40) Loss=0.04890 Rate=3283.96 GlobalRate=2616.05 Time=Wed May 13 22:36:48 2020\n[xla:2](40) Loss=0.05470 Rate=3283.51 GlobalRate=2625.24 Time=Wed May 13 22:36:48 2020\n[xla:4](40) Loss=0.01455 Rate=3294.71 GlobalRate=2621.36 Time=Wed May 13 22:36:48 2020\n[xla:0](40) Loss=0.09895 Rate=3287.68 GlobalRate=2611.91 Time=Wed May 13 22:36:48 2020\nFinished training epoch 4\n[xla:0] Accuracy=98.46%\n[xla:6] Accuracy=98.47%\n[xla:5] Accuracy=98.47%\n[xla:3] Accuracy=98.44%\n[xla:4] Accuracy=98.44%\n[xla:2] Accuracy=98.45%\n[xla:1] Accuracy=98.45%\n[xla:7] Accuracy=98.43%\n[xla:5](0) Loss=0.02672 Rate=215.98 GlobalRate=215.97 Time=Wed May 13 22:36:52 2020\n[xla:0](0) Loss=0.07681 Rate=205.72 GlobalRate=205.72 Time=Wed May 13 22:36:52 2020\n[xla:6](0) Loss=0.06433 Rate=196.80 GlobalRate=196.79 Time=Wed May 13 22:36:52 2020\n[xla:3](0) Loss=0.03718 Rate=187.81 GlobalRate=187.80 Time=Wed May 13 22:36:52 2020\n[xla:2](0) Loss=0.07632 Rate=189.98 GlobalRate=189.97 Time=Wed May 13 22:36:52 2020\n[xla:1](0) Loss=0.06249 Rate=188.76 GlobalRate=188.75 Time=Wed May 13 22:36:52 2020\n[xla:4](0) Loss=0.04422 Rate=186.92 GlobalRate=186.91 Time=Wed May 13 22:36:52 2020\n[xla:7](0) Loss=0.07541 Rate=188.53 GlobalRate=188.53 Time=Wed May 13 22:36:52 2020\n[xla:0](20) Loss=0.09088 Rate=2175.70 GlobalRate=1982.39 Time=Wed May 13 22:36:52 2020\n[xla:7](20) Loss=0.06857 Rate=2425.10 GlobalRate=2017.01 Time=Wed May 13 22:36:52 2020\n[xla:4](20) Loss=0.05090 Rate=2424.18 GlobalRate=2008.08 Time=Wed May 13 22:36:52 2020\n[xla:1](20) Loss=0.02976 Rate=2413.68 GlobalRate=2013.40 Time=Wed May 13 22:36:52 2020\n[xla:6](20) Loss=0.01732 Rate=2266.65 GlobalRate=1987.48 Time=Wed May 13 22:36:52 2020\n[xla:5](20) Loss=0.10206 Rate=2122.52 GlobalRate=1995.49 Time=Wed May 13 22:36:52 2020\n[xla:3](20) Loss=0.08308 Rate=2389.47 GlobalRate=1998.14 Time=Wed May 13 22:36:52 2020\n[xla:2](20) Loss=0.08767 Rate=2387.94 GlobalRate=2008.75 Time=Wed May 13 22:36:52 2020\n[xla:0](40) Loss=0.08668 Rate=3239.28 GlobalRate=2618.35 Time=Wed May 13 22:36:53 2020\n[xla:5](40) Loss=0.02281 Rate=3218.51 GlobalRate=2630.22 Time=Wed May 13 22:36:53 2020\n[xla:1](40) Loss=0.03453 Rate=3335.21 GlobalRate=2646.19 Time=Wed May 13 22:36:53 2020\n[xla:3](40) Loss=0.06390 Rate=3324.40 GlobalRate=2632.25 Time=Wed May 13 22:36:53 2020\n[xla:4](40) Loss=0.01103 Rate=3337.01 GlobalRate=2640.58 Time=Wed May 13 22:36:53 2020\n[xla:2](40) Loss=0.04580 Rate=3325.16 GlobalRate=2642.16 Time=Wed May 13 22:36:53 2020\n[xla:7](40) Loss=0.02986 Rate=3337.27 GlobalRate=2648.48 Time=Wed May 13 22:36:53 2020\n[xla:6](40) Loss=0.04793 Rate=3272.87 GlobalRate=2621.90 Time=Wed May 13 22:36:53 2020\nFinished training epoch 5\n[xla:6] Accuracy=98.58%\n[xla:3] Accuracy=98.57%\n[xla:1] Accuracy=98.58%\n[xla:5] Accuracy=98.59%\n[xla:0] Accuracy=98.58%\n[xla:7] Accuracy=98.58%\n[xla:2] Accuracy=98.60%\n[xla:4] Accuracy=98.58%\n[xla:4](0) Loss=0.03909 Rate=228.33 GlobalRate=228.32 Time=Wed May 13 22:36:57 2020\n[xla:5](0) Loss=0.02075 Rate=220.87 GlobalRate=220.86 Time=Wed May 13 22:36:57 2020\n[xla:6](0) Loss=0.05392 Rate=204.08 GlobalRate=204.08 Time=Wed May 13 22:36:57 2020\n[xla:3](0) Loss=0.03077 Rate=207.22 GlobalRate=207.19 Time=Wed May 13 22:36:57 2020\n[xla:2](0) Loss=0.06984 Rate=197.34 GlobalRate=197.34 Time=Wed May 13 22:36:57 2020\n[xla:1](0) Loss=0.05106 Rate=194.64 GlobalRate=194.64 Time=Wed May 13 22:36:57 2020\n[xla:7](0) Loss=0.06578 Rate=195.34 GlobalRate=195.34 Time=Wed May 13 22:36:57 2020\n[xla:0](0) Loss=0.06757 Rate=194.75 GlobalRate=194.74 Time=Wed May 13 22:36:57 2020\n[xla:3](20) Loss=0.07505 Rate=2318.79 GlobalRate=2060.24 Time=Wed May 13 22:36:57 2020\n[xla:1](20) Loss=0.02566 Rate=2409.41 GlobalRate=2041.90 Time=Wed May 13 22:36:57 2020\n[xla:2](20) Loss=0.07776 Rate=2395.42 GlobalRate=2049.25 Time=Wed May 13 22:36:57 2020\n[xla:6](20) Loss=0.01331 Rate=2305.20 GlobalRate=2039.47 Time=Wed May 13 22:36:57 2020\n[xla:5](20) Loss=0.09133 Rate=2215.25 GlobalRate=2064.97 Time=Wed May 13 22:36:57 2020\n[xla:0](20) Loss=0.08304 Rate=2418.02 GlobalRate=2046.20 Time=Wed May 13 22:36:57 2020\n[xla:7](20) Loss=0.06027 Rate=2417.33 GlobalRate=2048.93 Time=Wed May 13 22:36:57 2020\n[xla:4](20) Loss=0.04400 Rate=2133.32 GlobalRate=2047.51 Time=Wed May 13 22:36:57 2020\n[xla:0](40) Loss=0.07843 Rate=3300.03 GlobalRate=2661.14 Time=Wed May 13 22:36:58 2020\n[xla:4](40) Loss=0.00907 Rate=3192.49 GlobalRate=2664.69 Time=Wed May 13 22:36:58 2020\n[xla:1](40) Loss=0.02631 Rate=3294.97 GlobalRate=2656.79 Time=Wed May 13 22:36:58 2020\n[xla:3](40) Loss=0.05217 Rate=3258.35 GlobalRate=2672.52 Time=Wed May 13 22:36:58 2020\n[xla:6](40) Loss=0.04634 Rate=3253.71 GlobalRate=2654.85 Time=Wed May 13 22:36:58 2020\n[xla:7](40) Loss=0.02400 Rate=3299.43 GlobalRate=2663.38 Time=Wed May 13 22:36:58 2020\n[xla:5](40) Loss=0.01813 Rate=3218.27 GlobalRate=2677.10 Time=Wed May 13 22:36:58 2020\n[xla:2](40) Loss=0.04330 Rate=3288.27 GlobalRate=2662.75 Time=Wed May 13 22:36:58 2020\nFinished training epoch 6\n[xla:3] Accuracy=98.71%\n[xla:1] Accuracy=98.74%\n[xla:4] Accuracy=98.73%\n[xla:6] Accuracy=98.72%\n[xla:5] Accuracy=98.72%\n[xla:2] Accuracy=98.75%\n[xla:0] Accuracy=98.73%\n[xla:7] Accuracy=98.74%\n[xla:6](0) Loss=0.04557 Rate=211.35 GlobalRate=211.35 Time=Wed May 13 22:37:02 2020\n[xla:3](0) Loss=0.02584 Rate=203.68 GlobalRate=203.67 Time=Wed May 13 22:37:02 2020\n[xla:1](0) Loss=0.04326 Rate=198.14 GlobalRate=198.13 Time=Wed May 13 22:37:02 2020\n[xla:2](0) Loss=0.06392 Rate=191.26 GlobalRate=191.25 Time=Wed May 13 22:37:02 2020\n[xla:5](0) Loss=0.01722 Rate=192.82 GlobalRate=192.82 Time=Wed May 13 22:37:02 2020\n[xla:0](0) Loss=0.06066 Rate=188.67 GlobalRate=188.67 Time=Wed May 13 22:37:02 2020\n[xla:4](0) Loss=0.03362 Rate=182.80 GlobalRate=182.79 Time=Wed May 13 22:37:02 2020\n[xla:7](0) Loss=0.05943 Rate=190.58 GlobalRate=190.57 Time=Wed May 13 22:37:02 2020\n[xla:7](20) Loss=0.05324 Rate=2411.23 GlobalRate=2021.85 Time=Wed May 13 22:37:02 2020\n[xla:1](20) Loss=0.02066 Rate=2219.58 GlobalRate=1971.14 Time=Wed May 13 22:37:02 2020\n[xla:2](20) Loss=0.06752 Rate=2331.62 GlobalRate=1990.53 Time=Wed May 13 22:37:02 2020\n[xla:3](20) Loss=0.06587 Rate=2168.70 GlobalRate=1970.15 Time=Wed May 13 22:37:02 2020\n[xla:6](20) Loss=0.01039 Rate=2127.20 GlobalRate=1979.97 Time=Wed May 13 22:37:02 2020\n[xla:4](20) Loss=0.03913 Rate=2404.88 GlobalRate=1977.98 Time=Wed May 13 22:37:02 2020\n[xla:0](20) Loss=0.07612 Rate=2399.10 GlobalRate=2006.73 Time=Wed May 13 22:37:02 2020\n[xla:5](20) Loss=0.08427 Rate=2339.80 GlobalRate=2001.95 Time=Wed May 13 22:37:02 2020\n[xla:5](40) Loss=0.01440 Rate=3269.47 GlobalRate=2622.80 Time=Wed May 13 22:37:03 2020\n[xla:3](40) Loss=0.04328 Rate=3199.80 GlobalRate=2594.26 Time=Wed May 13 22:37:03 2020\n[xla:6](40) Loss=0.04575 Rate=3182.82 GlobalRate=2602.82 Time=Wed May 13 22:37:03 2020\n[xla:0](40) Loss=0.06956 Rate=3292.03 GlobalRate=2626.60 Time=Wed May 13 22:37:03 2020\n[xla:7](40) Loss=0.02004 Rate=3295.42 GlobalRate=2639.26 Time=Wed May 13 22:37:03 2020\n[xla:2](40) Loss=0.04134 Rate=3263.68 GlobalRate=2611.82 Time=Wed May 13 22:37:03 2020\n[xla:1](40) Loss=0.02198 Rate=3218.50 GlobalRate=2594.53 Time=Wed May 13 22:37:03 2020\n[xla:4](40) Loss=0.00735 Rate=3287.13 GlobalRate=2598.59 Time=Wed May 13 22:37:03 2020\nFinished training epoch 7\n[xla:1] Accuracy=98.79%\n[xla:5] Accuracy=98.82%\n[xla:2] Accuracy=98.78%\n[xla:4] Accuracy=98.77%\n[xla:6] Accuracy=98.80%\n[xla:7] Accuracy=98.79%\n[xla:0] Accuracy=98.78%\n[xla:3] Accuracy=98.77%\n[xla:7](0) Loss=0.05476 Rate=239.74 GlobalRate=239.74 Time=Wed May 13 22:37:07 2020\n[xla:0](0) Loss=0.05548 Rate=226.69 GlobalRate=226.69 Time=Wed May 13 22:37:07 2020\n[xla:1](0) Loss=0.03747 Rate=205.92 GlobalRate=205.91 Time=Wed May 13 22:37:07 2020\n[xla:6](0) Loss=0.04040 Rate=191.84 GlobalRate=191.84 Time=Wed May 13 22:37:07 2020\n[xla:3](0) Loss=0.02114 Rate=192.40 GlobalRate=192.40 Time=Wed May 13 22:37:07 2020\n[xla:2](0) Loss=0.05745 Rate=192.31 GlobalRate=192.31 Time=Wed May 13 22:37:07 2020\n[xla:5](0) Loss=0.01487 Rate=187.90 GlobalRate=187.90 Time=Wed May 13 22:37:07 2020\n[xla:4](0) Loss=0.02912 Rate=189.21 GlobalRate=189.21 Time=Wed May 13 22:37:07 2020\n[xla:4](20) Loss=0.03605 Rate=2451.18 GlobalRate=2031.58 Time=Wed May 13 22:37:08 2020\n[xla:0](20) Loss=0.07124 Rate=2119.65 GlobalRate=2033.76 Time=Wed May 13 22:37:08 2020\n[xla:5](20) Loss=0.07639 Rate=2449.15 GlobalRate=2023.76 Time=Wed May 13 22:37:08 2020\n[xla:7](20) Loss=0.04890 Rate=2044.11 GlobalRate=2032.77 Time=Wed May 13 22:37:08 2020\n[xla:3](20) Loss=0.05719 Rate=2419.09 GlobalRate=2034.68 Time=Wed May 13 22:37:08 2020\n[xla:2](20) Loss=0.05970 Rate=2449.49 GlobalRate=2047.22 Time=Wed May 13 22:37:08 2020\n[xla:1](20) Loss=0.01887 Rate=2291.05 GlobalRate=2040.91 Time=Wed May 13 22:37:08 2020\n[xla:6](20) Loss=0.00848 Rate=2409.14 GlobalRate=2027.48 Time=Wed May 13 22:37:08 2020\n[xla:0](40) Loss=0.06041 Rate=3023.65 GlobalRate=2588.24 Time=Wed May 13 22:37:08 2020\n[xla:6](40) Loss=0.04556 Rate=3148.52 GlobalRate=2586.75 Time=Wed May 13 22:37:08 2020\n[xla:3](40) Loss=0.03857 Rate=3144.01 GlobalRate=2589.23 Time=Wed May 13 22:37:08 2020\n[xla:5](40) Loss=0.01232 Rate=3156.12 GlobalRate=2580.19 Time=Wed May 13 22:37:08 2020\n[xla:7](40) Loss=0.01801 Rate=2991.90 GlobalRate=2586.78 Time=Wed May 13 22:37:08 2020\n[xla:4](40) Loss=0.00637 Rate=3156.40 GlobalRate=2586.48 Time=Wed May 13 22:37:08 2020\n[xla:2](40) Loss=0.03783 Rate=3154.60 GlobalRate=2598.96 Time=Wed May 13 22:37:08 2020\n[xla:1](40) Loss=0.01897 Rate=3088.00 GlobalRate=2592.41 Time=Wed May 13 22:37:08 2020\nFinished training epoch 8\n[xla:1] Accuracy=98.84%\n[xla:0] Accuracy=98.85%\n[xla:7] Accuracy=98.86%\n[xla:5] Accuracy=98.82%\n[xla:4] Accuracy=98.84%\n[xla:6] Accuracy=98.85%\n[xla:3] Accuracy=98.83%\n[xla:2] Accuracy=98.85%\n[xla:4](0) Loss=0.02756 Rate=209.84 GlobalRate=209.84 Time=Wed May 13 22:37:12 2020\n[xla:3](0) Loss=0.01748 Rate=193.54 GlobalRate=193.53 Time=Wed May 13 22:37:12 2020\n[xla:2](0) Loss=0.05431 Rate=186.35 GlobalRate=186.34 Time=Wed May 13 22:37:12 2020\n[xla:1](0) Loss=0.03410 Rate=179.78 GlobalRate=179.77 Time=Wed May 13 22:37:12 2020\n[xla:0](0) Loss=0.05009 Rate=178.88 GlobalRate=178.88 Time=Wed May 13 22:37:12 2020\n[xla:5](0) Loss=0.01311 Rate=186.57 GlobalRate=186.57 Time=Wed May 13 22:37:12 2020\n[xla:6](0) Loss=0.03658 Rate=179.70 GlobalRate=179.70 Time=Wed May 13 22:37:12 2020\n[xla:7](0) Loss=0.05061 Rate=181.97 GlobalRate=181.97 Time=Wed May 13 22:37:12 2020\n[xla:0](20) Loss=0.06518 Rate=2435.53 GlobalRate=1968.76 Time=Wed May 13 22:37:13 2020\n[xla:1](20) Loss=0.01824 Rate=2420.40 GlobalRate=1967.71 Time=Wed May 13 22:37:13 2020\n[xla:4](20) Loss=0.03259 Rate=2170.83 GlobalRate=1997.00 Time=Wed May 13 22:37:13 2020\n[xla:5](20) Loss=0.07094 Rate=2442.59 GlobalRate=2013.89 Time=Wed May 13 22:37:13 2020\n[xla:6](20) Loss=0.00664 Rate=2454.03 GlobalRate=1980.70 Time=Wed May 13 22:37:13 2020\n[xla:7](20) Loss=0.04425 Rate=2447.93 GlobalRate=1990.95 Time=Wed May 13 22:37:13 2020\n[xla:3](20) Loss=0.05003 Rate=2280.30 GlobalRate=1978.44 Time=Wed May 13 22:37:13 2020\n[xla:2](20) Loss=0.05004 Rate=2398.26 GlobalRate=1994.20 Time=Wed May 13 22:37:13 2020\n[xla:5](40) Loss=0.01029 Rate=3276.17 GlobalRate=2620.33 Time=Wed May 13 22:37:13 2020\n[xla:6](40) Loss=0.04468 Rate=3281.00 GlobalRate=2591.48 Time=Wed May 13 22:37:13 2020\n[xla:3](40) Loss=0.03452 Rate=3217.88 GlobalRate=2591.85 Time=Wed May 13 22:37:13 2020\n[xla:4](40) Loss=0.00543 Rate=3166.53 GlobalRate=2605.28 Time=Wed May 13 22:37:13 2020\n[xla:2](40) Loss=0.03704 Rate=3263.06 GlobalRate=2604.92 Time=Wed May 13 22:37:13 2020\n[xla:0](40) Loss=0.05268 Rate=3272.64 GlobalRate=2580.63 Time=Wed May 13 22:37:13 2020\n[xla:7](40) Loss=0.01522 Rate=3282.67 GlobalRate=2601.97 Time=Wed May 13 22:37:13 2020\n[xla:1](40) Loss=0.01688 Rate=3264.15 GlobalRate=2578.82 Time=Wed May 13 22:37:13 2020\nFinished training epoch 9\n[xla:6] Accuracy=98.83%\n[xla:5] Accuracy=98.85%\n[xla:2] Accuracy=98.83%\n[xla:0] Accuracy=98.82%\n[xla:1] Accuracy=98.84%\n[xla:4] Accuracy=98.84%\n[xla:3] Accuracy=98.81%\n[xla:7] Accuracy=98.85%\n[xla:6](0) Loss=0.03156 Rate=226.63 GlobalRate=226.63 Time=Wed May 13 22:37:17 2020\n[xla:5](0) Loss=0.01197 Rate=211.60 GlobalRate=211.60 Time=Wed May 13 22:37:17 2020\n[xla:0](0) Loss=0.04641 Rate=211.22 GlobalRate=211.21 Time=Wed May 13 22:37:17 2020\n[xla:2](0) Loss=0.04971 Rate=197.89 GlobalRate=197.89 Time=Wed May 13 22:37:17 2020\n[xla:3](0) Loss=0.01499 Rate=199.82 GlobalRate=199.80 Time=Wed May 13 22:37:17 2020\n[xla:4](0) Loss=0.02718 Rate=194.04 GlobalRate=194.04 Time=Wed May 13 22:37:17 2020\n[xla:7](0) Loss=0.04941 Rate=196.84 GlobalRate=196.83 Time=Wed May 13 22:37:17 2020\n[xla:1](0) Loss=0.03118 Rate=192.59 GlobalRate=192.58 Time=Wed May 13 22:37:17 2020\n[xla:5](20) Loss=0.06364 Rate=2165.57 GlobalRate=2001.41 Time=Wed May 13 22:37:18 2020\n[xla:7](20) Loss=0.04100 Rate=2346.46 GlobalRate=2024.65 Time=Wed May 13 22:37:18 2020\n[xla:2](20) Loss=0.04364 Rate=2289.99 GlobalRate=2003.60 Time=Wed May 13 22:37:18 2020\n[xla:0](20) Loss=0.05998 Rate=2172.75 GlobalRate=2003.64 Time=Wed May 13 22:37:18 2020\n[xla:1](20) Loss=0.01567 Rate=2352.72 GlobalRate=2006.56 Time=Wed May 13 22:37:18 2020\n[xla:4](20) Loss=0.02994 Rate=2342.67 GlobalRate=2009.26 Time=Wed May 13 22:37:18 2020\n[xla:6](20) Loss=0.00565 Rate=2062.97 GlobalRate=2000.62 Time=Wed May 13 22:37:18 2020\n[xla:3](20) Loss=0.04510 Rate=2290.04 GlobalRate=2012.60 Time=Wed May 13 22:37:18 2020\n[xla:4](40) Loss=0.00461 Rate=3285.79 GlobalRate=2634.84 Time=Wed May 13 22:37:19 2020\n[xla:3](40) Loss=0.02990 Rate=3264.73 GlobalRate=2637.77 Time=Wed May 13 22:37:19 2020\n[xla:6](40) Loss=0.04273 Rate=3174.24 GlobalRate=2627.33 Time=Wed May 13 22:37:19 2020\n[xla:5](40) Loss=0.00876 Rate=3212.94 GlobalRate=2627.18 Time=Wed May 13 22:37:19 2020\n[xla:1](40) Loss=0.01477 Rate=3290.14 GlobalRate=2632.57 Time=Wed May 13 22:37:19 2020\n[xla:2](40) Loss=0.03382 Rate=3264.13 GlobalRate=2629.61 Time=Wed May 13 22:37:19 2020\n[xla:7](40) Loss=0.01328 Rate=3285.27 GlobalRate=2647.60 Time=Wed May 13 22:37:19 2020\n[xla:0](40) Loss=0.04425 Rate=3216.74 GlobalRate=2629.48 Time=Wed May 13 22:37:19 2020\nFinished training epoch 10\n[xla:4] Accuracy=98.85%\n[xla:0] Accuracy=98.85%\n[xla:1] Accuracy=98.83%\n[xla:5] Accuracy=98.86%\n[xla:2] Accuracy=98.83%\n[xla:3] Accuracy=98.83%\n[xla:7] Accuracy=98.85%\n[xla:6] Accuracy=98.83%\n"
    }
   ],
   "source": [
    "# Start training processes\n",
    "def _mp_fn(rank, flags):\n",
    "  global FLAGS\n",
    "  FLAGS = flags\n",
    "  torch.set_default_tensor_type('torch.FloatTensor')\n",
    "  accuracy, data, pred, target = train_mnist()\n",
    "  if rank == 0:\n",
    "    # Retrieve tensors that are on TPU core 0 and plot.\n",
    "    plot_results(data.cpu(), pred.cpu(), target.cpu())\n",
    "\n",
    "xmp.spawn(_mp_fn, args=(FLAGS,), nprocs=FLAGS['num_cores'],\n",
    "          start_method='fork')"
   ]
  },
  {
   "cell_type": "code",
   "execution_count": 11,
   "metadata": {},
   "outputs": [
    {
     "output_type": "display_data",
     "data": {
      "text/plain": "<PIL.Image.Image image mode=RGBA size=792x648 at 0x7F200886C780>",
      "image/png": "[encoded data removed]"
     },
     "metadata": {}
    }
   ],
   "source": [
    "import cv2\n",
    "from google.colab.patches import cv2_imshow\n",
    "\n",
    "img = cv2.imread(RESULT_IMG_PATH, cv2.IMREAD_UNCHANGED)\n",
    "cv2_imshow(img)"
   ]
  },
  {
   "cell_type": "code",
   "execution_count": 2,
   "metadata": {},
   "outputs": [],
   "source": [
    "import os"
   ]
  },
  {
   "cell_type": "code",
   "execution_count": 3,
   "metadata": {},
   "outputs": [],
   "source": [
    "import torch\n",
    "import torch.nn as nn\n",
    "import transformers\n",
    "from transformers import BertModel,BertTokenizer,BertForMaskedLM"
   ]
  },
  {
   "cell_type": "code",
   "execution_count": 4,
   "metadata": {},
   "outputs": [
    {
     "output_type": "display_data",
     "data": {
      "text/plain": "HBox(children=(FloatProgress(value=0.0, description='Downloading', max=231508.0, style=ProgressStyle(descripti…",
      "application/vnd.jupyter.widget-view+json": {
       "version_major": 2,
       "version_minor": 0,
       "model_id": "e58e811358f244ae88ebffa24e4d61eb"
      }
     },
     "metadata": {}
    },
    {
     "output_type": "stream",
     "name": "stdout",
     "text": "\n"
    }
   ],
   "source": [
    "tokenizer=BertTokenizer.from_pretrained(\"bert-base-uncased\")"
   ]
  },
  {
   "cell_type": "code",
   "execution_count": 5,
   "metadata": {},
   "outputs": [
    {
     "output_type": "display_data",
     "data": {
      "text/plain": "HBox(children=(FloatProgress(value=0.0, description='Downloading', max=433.0, style=ProgressStyle(description_…",
      "application/vnd.jupyter.widget-view+json": {
       "version_major": 2,
       "version_minor": 0,
       "model_id": "983e9a3473224d24acb8e10afe66f93b"
      }
     },
     "metadata": {}
    },
    {
     "output_type": "stream",
     "name": "stdout",
     "text": "\n"
    },
    {
     "output_type": "display_data",
     "data": {
      "text/plain": "HBox(children=(FloatProgress(value=0.0, description='Downloading', max=440473133.0, style=ProgressStyle(descri…",
      "application/vnd.jupyter.widget-view+json": {
       "version_major": 2,
       "version_minor": 0,
       "model_id": "b72764b80caa486a8a7ff626d6e3a3ab"
      }
     },
     "metadata": {}
    },
    {
     "output_type": "stream",
     "name": "stdout",
     "text": "\n"
    }
   ],
   "source": [
    "model=BertModel.from_pretrained(\"bert-base-uncased\")"
   ]
  },
  {
   "cell_type": "code",
   "execution_count": 8,
   "metadata": {},
   "outputs": [],
   "source": [
    "text='hello how are you doing today ?'\n",
    "inp = tokenizer.encode_plus(text)"
   ]
  },
  {
   "cell_type": "code",
   "execution_count": 7,
   "metadata": {},
   "outputs": [],
   "source": [
    "model.eval()\n",
    "model=model.cuda()"
   ]
  },
  {
   "cell_type": "code",
   "execution_count": 17,
   "metadata": {},
   "outputs": [],
   "source": [
    "opt = model(torch.tensor([inp[\"input_ids\"]]).cuda(),token_type_ids=torch.tensor([inp[\"token_type_ids\"]]).cuda())"
   ]
  },
  {
   "cell_type": "code",
   "execution_count": 28,
   "metadata": {},
   "outputs": [
    {
     "output_type": "stream",
     "name": "stdout",
     "text": "(tensor([[[ 0.0651, -0.0272, -0.1041,  ..., -0.4704,  0.1531,  0.4379],\n         [ 0.3265,  0.2510,  0.4010,  ..., -0.5542,  0.8715,  0.0646],\n         [ 0.0431, -0.6628, -0.0623,  ..., -0.2092,  0.4100, -0.9200],\n         ...,\n         [-0.1852, -0.7003, -0.8145,  ..., -0.2869, -0.0099, -0.6238],\n         [-0.3100, -0.9521, -0.7391,  ...,  0.0435,  0.0570, -0.1790],\n         [ 0.4934, -0.1540, -0.3637,  ...,  0.1522, -0.4075, -0.2111]]],\n       device='cuda:0', grad_fn=<NativeLayerNormBackward>), tensor([[-0.9325, -0.4461, -0.8715,  0.8512,  0.6705, -0.2263,  0.9285,  0.2642,\n         -0.7471, -1.0000, -0.4472,  0.9657,  0.9846,  0.4387,  0.9663, -0.8510,\n         -0.6889, -0.6225,  0.2675, -0.5856,  0.7629,  1.0000,  0.1583,  0.2933,\n          0.3993,  0.9950, -0.9026,  0.9678,  0.9738,  0.7256, -0.7606,  0.0956,\n         -0.9940, -0.1838, -0.9069, -0.9930,  0.4059, -0.7753,  0.0047,  0.0327,\n         -0.9341,  0.2766,  1.0000, -0.2391,  0.4447, -0.2714, -1.0000,  0.2491,\n         -0.9349,  0.9072,  0.8978,  0.8558,  0.1332,  0.4385,  0.5090,  0.0502,\n         -0.0894,  0.0242, -0.3207, -0.5933, -0.6078,  0.5520, -0.8674, -0.9146,\n          0.9231,  0.7679, -0.1031, -0.2328, -0.1705, -0.2068,  0.9254,  0.3490,\n          0.2626, -0.9191,  0.5251,  0.2489, -0.6536,  1.0000, -0.8046, -0.9891,\n          0.8701,  0.7243,  0.5219, -0.0756,  0.3414, -1.0000,  0.6197, -0.0572,\n         -0.9943,  0.1585,  0.6836, -0.2888,  0.4252,  0.4610, -0.5652, -0.4601,\n         -0.3280, -0.8972, -0.3212, -0.3144,  0.0937, -0.1893, -0.4874, -0.3828,\n          0.3050, -0.4996, -0.6590,  0.4298, -0.2688,  0.6634,  0.3623, -0.3348,\n          0.5550, -0.9817,  0.6526, -0.3772, -0.9926, -0.5099, -0.9940,  0.7012,\n         -0.3365, -0.3055,  0.9805, -0.1555,  0.4971, -0.0800, -0.9353, -1.0000,\n         -0.7897, -0.6745, -0.2258, -0.2604, -0.9864, -0.9822,  0.6186,  0.9712,\n          0.1614,  0.9999, -0.2810,  0.9699, -0.2470, -0.6762,  0.6356, -0.4435,\n          0.7963,  0.6143, -0.6718,  0.0905, -0.4633,  0.4935, -0.8301, -0.0930,\n         -0.6600, -0.9664, -0.3996,  0.9706, -0.5423, -0.9299,  0.1628, -0.1497,\n         -0.5678,  0.8760,  0.8207,  0.4354, -0.3980,  0.4047,  0.2127,  0.6682,\n         -0.9164, -0.1078,  0.4470, -0.3015, -0.8092, -0.9843, -0.3800,  0.5289,\n          0.9950,  0.8248,  0.2738,  0.8083, -0.1755,  0.7724, -0.9792,  0.9883,\n         -0.2754,  0.2930, -0.0101,  0.4868, -0.9242, -0.1442,  0.8929, -0.6613,\n         -0.8988, -0.1660, -0.4981, -0.4270, -0.8452,  0.6324, -0.3189, -0.2550,\n         -0.0233,  0.9555,  0.9847,  0.8060,  0.1838,  0.7698, -0.9278, -0.5878,\n          0.0280,  0.2480,  0.0918,  0.9968, -0.7429, -0.0977, -0.9442, -0.9911,\n         -0.0982, -0.9414, -0.1459, -0.7004,  0.7068, -0.1139,  0.4734,  0.4840,\n         -0.9923, -0.8290,  0.3490, -0.4507,  0.4445, -0.2123,  0.5843,  0.9438,\n         -0.6850,  0.8408,  0.9624, -0.9061, -0.8568,  0.8318, -0.3320,  0.9104,\n         -0.6984,  0.9848,  0.9588,  0.8906, -0.9507, -0.7725, -0.8713, -0.7226,\n          0.0294, -0.0016,  0.8501,  0.5183,  0.3949,  0.5092, -0.7236,  0.9992,\n         -0.6356, -0.9731, -0.4785, -0.0984, -0.9908,  0.9066,  0.3490,  0.3676,\n         -0.4347, -0.8094, -0.9796,  0.8990,  0.0731,  0.9887, -0.2951, -0.9600,\n         -0.6337, -0.9600, -0.2817, -0.2335, -0.1342, -0.0957, -0.9706,  0.5421,\n          0.5712,  0.6037, -0.7376,  0.9996,  1.0000,  0.9808,  0.9373,  0.9475,\n         -0.9999, -0.6955,  1.0000, -0.9968, -1.0000, -0.9473, -0.6995,  0.4289,\n         -1.0000, -0.1366,  0.0657, -0.9251,  0.6481,  0.9855,  0.9970, -1.0000,\n          0.8466,  0.9625, -0.6008,  0.9843, -0.5194,  0.9816,  0.6023,  0.3355,\n         -0.3524,  0.3501, -0.9344, -0.9050, -0.4966, -0.7935,  0.9991,  0.1130,\n         -0.8461, -0.9329,  0.4386, -0.2302, -0.4432, -0.9801, -0.1922,  0.6744,\n          0.8672,  0.2047,  0.3624, -0.7455,  0.2472, -0.1511,  0.2890,  0.6548,\n         -0.9360, -0.4502,  0.0707, -0.3994, -0.6043, -0.9790,  0.9787, -0.4481,\n          0.9011,  1.0000,  0.0936, -0.9339,  0.7410,  0.2457, -0.1381,  1.0000,\n          0.8257, -0.9874, -0.5119,  0.6345, -0.6310, -0.6391,  0.9995, -0.1758,\n         -0.6245, -0.5039,  0.9887, -0.9911,  0.9964, -0.9510, -0.9835,  0.9800,\n          0.9546, -0.7865, -0.6279,  0.2232, -0.5700,  0.2563, -0.9721,  0.8222,\n          0.5901, -0.0978,  0.9138, -0.8838, -0.5115,  0.2749, -0.7553, -0.1610,\n          0.9561,  0.5989, -0.3231,  0.0712, -0.3355, -0.3080, -0.9873,  0.4367,\n          1.0000, -0.2646,  0.7269, -0.3819, -0.0630, -0.2438,  0.4848,  0.6060,\n         -0.3011, -0.8752,  0.7985, -0.9827, -0.9912,  0.8262,  0.1936, -0.3968,\n          1.0000,  0.4921,  0.1076,  0.4431,  0.9918,  0.0808,  0.7136,  0.8548,\n          0.9890, -0.1730,  0.5038,  0.8899, -0.8505, -0.4306, -0.6644, -0.0189,\n         -0.9227,  0.0710, -0.9772,  0.9799,  0.9619,  0.3951,  0.2734,  0.6182,\n          1.0000, -0.4609,  0.6811, -0.4155,  0.8895, -0.9998, -0.9211, -0.4464,\n         -0.0613, -0.7346, -0.3500,  0.4449, -0.9777,  0.7697,  0.6588, -0.9969,\n         -0.9946, -0.2244,  0.9257, -0.0011, -0.9916, -0.8187, -0.6806,  0.5225,\n         -0.1573, -0.9535, -0.0021, -0.3569,  0.4405, -0.1399,  0.5495,  0.8274,\n          0.7874, -0.6362, -0.4410, -0.1729, -0.8682,  0.9127, -0.8954, -0.9382,\n         -0.2496,  1.0000, -0.5686,  0.8745,  0.8125,  0.8004, -0.0665,  0.1387,\n          0.9582,  0.3547, -0.6111, -0.8276, -0.7298, -0.4253,  0.7954,  0.4433,\n          0.6364,  0.8707,  0.8422,  0.0704, -0.0014, -0.0156,  0.9999, -0.2566,\n         -0.1789, -0.5198,  0.0563, -0.4741, -0.5950,  1.0000,  0.2443,  0.4328,\n         -0.9938, -0.9065, -0.9457,  1.0000,  0.8676, -0.7711,  0.7942,  0.6457,\n         -0.1213,  0.8716, -0.1050, -0.3708,  0.2749,  0.0763,  0.9706, -0.6017,\n         -0.9844, -0.7018,  0.4293, -0.9781,  1.0000, -0.5959, -0.2862, -0.5229,\n         -0.1926,  0.2843, -0.1233, -0.9892, -0.1646,  0.2939,  0.9751,  0.3383,\n         -0.5898, -0.9469,  0.8298,  0.8048, -0.9302, -0.9657,  0.9744, -0.9938,\n          0.6119,  1.0000,  0.2581,  0.0346,  0.2243, -0.5180,  0.3503, -0.3630,\n          0.8305, -0.9778, -0.3578, -0.2022,  0.3484, -0.1041, -0.3797,  0.8091,\n          0.2129, -0.5240, -0.7313, -0.0250,  0.4008,  0.9120, -0.2274, -0.1298,\n          0.1375, -0.2042, -0.9431, -0.1731, -0.4990, -1.0000,  0.8060, -1.0000,\n          0.6199,  0.1258, -0.2340,  0.8938,  0.3733,  0.5875, -0.8498, -0.7665,\n          0.6498,  0.8183, -0.3014, -0.5438, -0.7977,  0.2980, -0.0294,  0.1029,\n         -0.5856,  0.7858, -0.2347,  1.0000,  0.1861, -0.8600, -0.9821,  0.1242,\n         -0.2625,  1.0000, -0.9482, -0.9739,  0.5359, -0.8271, -0.8828,  0.4481,\n          0.0705, -0.8552, -0.9559,  0.9803,  0.9363, -0.5664,  0.5015, -0.3707,\n         -0.6035,  0.0231,  0.8703,  0.9925,  0.5292,  0.9253,  0.3738, -0.2234,\n          0.9822,  0.3568,  0.4867, -0.0109,  1.0000,  0.3098, -0.9344,  0.2220,\n         -0.9851, -0.1917, -0.9719,  0.3940,  0.2158,  0.9238, -0.1611,  0.9757,\n         -0.7907,  0.0404, -0.7671, -0.3082,  0.4988, -0.9529, -0.9886, -0.9904,\n          0.5549, -0.4148,  0.0011,  0.1171,  0.1085,  0.4504,  0.4817, -1.0000,\n          0.9641,  0.4929,  0.9189,  0.9760,  0.7821,  0.5351,  0.2925, -0.9913,\n         -0.9913, -0.3299, -0.1645,  0.7798,  0.6667,  0.9543,  0.5421, -0.4796,\n         -0.3063, -0.3581, -0.5717, -0.9962,  0.4933, -0.4383, -0.9796,  0.9756,\n         -0.3441, -0.1091,  0.1022, -0.8732,  0.9540,  0.8105,  0.3958,  0.0100,\n          0.5504,  0.9042,  0.9645,  0.9856, -0.7537,  0.9007, -0.6106,  0.5981,\n          0.7592, -0.9602,  0.0461,  0.5441, -0.4739,  0.2643, -0.1874, -0.9810,\n          0.5200, -0.3417,  0.7283, -0.4529,  0.1124, -0.3886, -0.0389, -0.6657,\n         -0.7985,  0.5396,  0.6476,  0.9482,  0.8432,  0.0242, -0.7436, -0.2050,\n         -0.7481, -0.9307,  0.9516, -0.0220, -0.2054,  0.6666, -0.0935,  0.8099,\n         -0.0206, -0.4129, -0.3023, -0.7346,  0.8823, -0.6248, -0.5694, -0.6700,\n          0.7500,  0.3611,  1.0000, -0.7390, -0.8487, -0.4568, -0.4572,  0.4493,\n         -0.7302, -1.0000,  0.4659, -0.4740,  0.6445, -0.6856,  0.8371, -0.7479,\n         -0.9872, -0.2018,  0.4292,  0.7686, -0.4218, -0.6346,  0.4966, -0.1157,\n          0.9858,  0.9233, -0.6429,  0.3714,  0.5762, -0.7609, -0.7260,  0.9448]],\n       device='cuda:0', grad_fn=<TanhBackward>))\n"
    }
   ],
   "source": [
    "print(opt)"
   ]
  },
  {
   "cell_type": "code",
   "execution_count": null,
   "metadata": {},
   "outputs": [],
   "source": []
  }
 ],
 "metadata": {
  "language_info": {
   "codemirror_mode": {
    "name": "ipython",
    "version": 3
   },
   "file_extension": ".py",
   "mimetype": "text/x-python",
   "name": "python",
   "nbconvert_exporter": "python",
   "pygments_lexer": "ipython3",
   "version": "3.6.9-final"
  },
  "orig_nbformat": 2,
  "kernelspec": {
   "name": "python_defaultSpec_1594446170953",
   "display_name": "Python 3.6.9 64-bit"
  }
 },
 "nbformat": 4,
 "nbformat_minor": 2
}