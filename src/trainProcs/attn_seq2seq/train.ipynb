{
 "cells": [
  {
   "cell_type": "code",
   "execution_count": 51,
   "metadata": {},
   "outputs": [
    {
     "output_type": "stream",
     "name": "stdout",
     "text": "The autoreload extension is already loaded. To reload it, use:\n  %reload_ext autoreload\n"
    }
   ],
   "source": [
    "%load_ext autoreload\n",
    "%autoreload 2\n",
    "\n",
    "import sys\n",
    "\n",
    "sys.path.append(\"../../\")\n",
    "\n",
    "from dataloader import SimpleDataloader\n",
    "from params import ATTN_SEQ2SEQ_PARAMS\n",
    "from models.attn_seq2seq import Seq2seq, count_parameters, Encoder, Decoder\n",
    "from utils import (\n",
    "    save_model,\n",
    "    get_torch_device,\n",
    "    epoch_time,\n",
    "    arg_copy,\n",
    "    save_to_artifact,\n",
    "    save_test_df,\n",
    "    save_metrics,\n",
    ")\n",
    "from test_metrics.test_model import Model_tester\n",
    "\n",
    "import torch\n",
    "import torch.nn.functional as F\n",
    "import torch.optim as optim\n",
    "import torch.nn as nn\n",
    "import numpy as np\n",
    "import math\n",
    "import sys\n",
    "import time\n",
    "import glob\n",
    "import argparse\n",
    "import pandas as pd\n"
   ]
  },
  {
   "cell_type": "code",
   "execution_count": 13,
   "metadata": {},
   "outputs": [],
   "source": [
    "hp = ATTN_SEQ2SEQ_PARAMS\n"
   ]
  },
  {
   "cell_type": "code",
   "execution_count": 14,
   "metadata": {},
   "outputs": [
    {
     "output_type": "stream",
     "name": "stdout",
     "text": "Loading Form Cache\n"
    }
   ],
   "source": [
    "device = get_torch_device()\n",
    "\n",
    "\n",
    "data = SimpleDataloader(**vars(hp))\n",
    "train_dataloader = data.get_train_dataloader()\n",
    "val_dataloader = data.get_val_dataloader()\n",
    "test_dataloader = data.get_test_dataloader()\n"
   ]
  },
  {
   "cell_type": "code",
   "execution_count": 52,
   "metadata": {},
   "outputs": [
    {
     "output_type": "stream",
     "name": "stdout",
     "text": "The model has 112,763,401 trainable parameters\n"
    },
    {
     "output_type": "execute_result",
     "data": {
      "text/plain": "Seq2seq(\n  (encoder): Encoder(\n    (embedding): Embedding(45000, 300)\n    (rnn): LSTM(300, 600, num_layers=2, dropout=0.3, bidirectional=True)\n    (dropout): Dropout(p=0.3, inplace=False)\n  )\n  (decoder): Decoder(\n    (embedding): Embedding(45000, 300)\n    (rnn): LSTM(300, 1200, num_layers=2, dropout=0.3)\n    (fc): Linear(in_features=1200, out_features=45000, bias=True)\n    (dropout): Dropout(p=0.3, inplace=False)\n  )\n)"
     },
     "metadata": {},
     "execution_count": 52
    }
   ],
   "source": [
    "\n",
    "model = Seq2seq(**vars(hp))\n",
    "model.init_weights()\n",
    "print(f\"The model has {count_parameters(model):,} trainable parameters\")\n",
    "model.to(device)"
   ]
  },
  {
   "cell_type": "code",
   "execution_count": 53,
   "metadata": {},
   "outputs": [],
   "source": [
    "it=iter(val_dataloader)\n",
    "src,trg,src_len=next(it)\n",
    "src = src.to(device) \n",
    "trg = trg.to(device)"
   ]
  },
  {
   "cell_type": "code",
   "execution_count": 54,
   "metadata": {},
   "outputs": [
    {
     "output_type": "stream",
     "name": "stdout",
     "text": "torch.Size([40, 64])\ntorch.Size([40, 64, 300])\ntorch.Size([40, 64, 1200]) torch.Size([4, 64, 600]) torch.Size([4, 64, 600])\nDecoder\ntorch.Size([64]) torch.Size([2, 64, 1200]) torch.Size([2, 64, 1200])\nDecoder\ntorch.Size([64]) torch.Size([2, 64, 1200]) torch.Size([2, 64, 1200])\nDecoder\ntorch.Size([64]) torch.Size([2, 64, 1200]) torch.Size([2, 64, 1200])\nDecoder\ntorch.Size([64]) torch.Size([2, 64, 1200]) torch.Size([2, 64, 1200])\nDecoder\ntorch.Size([64]) torch.Size([2, 64, 1200]) torch.Size([2, 64, 1200])\nDecoder\ntorch.Size([64]) torch.Size([2, 64, 1200]) torch.Size([2, 64, 1200])\nDecoder\ntorch.Size([64]) torch.Size([2, 64, 1200]) torch.Size([2, 64, 1200])\nDecoder\ntorch.Size([64]) torch.Size([2, 64, 1200]) torch.Size([2, 64, 1200])\nDecoder\ntorch.Size([64]) torch.Size([2, 64, 1200]) torch.Size([2, 64, 1200])\nDecoder\ntorch.Size([64]) torch.Size([2, 64, 1200]) torch.Size([2, 64, 1200])\nDecoder\ntorch.Size([64]) torch.Size([2, 64, 1200]) torch.Size([2, 64, 1200])\nDecoder\ntorch.Size([64]) torch.Size([2, 64, 1200]) torch.Size([2, 64, 1200])\nDecoder\ntorch.Size([64]) torch.Size([2, 64, 1200]) torch.Size([2, 64, 1200])\nDecoder\ntorch.Size([64]) torch.Size([2, 64, 1200]) torch.Size([2, 64, 1200])\nDecoder\ntorch.Size([64]) torch.Size([2, 64, 1200]) torch.Size([2, 64, 1200])\nDecoder\ntorch.Size([64]) torch.Size([2, 64, 1200]) torch.Size([2, 64, 1200])\nDecoder\ntorch.Size([64]) torch.Size([2, 64, 1200]) torch.Size([2, 64, 1200])\nDecoder\ntorch.Size([64]) torch.Size([2, 64, 1200]) torch.Size([2, 64, 1200])\nDecoder\ntorch.Size([64]) torch.Size([2, 64, 1200]) torch.Size([2, 64, 1200])\nDecoder\ntorch.Size([64]) torch.Size([2, 64, 1200]) torch.Size([2, 64, 1200])\nDecoder\ntorch.Size([64]) torch.Size([2, 64, 1200]) torch.Size([2, 64, 1200])\nDecoder\ntorch.Size([64]) torch.Size([2, 64, 1200]) torch.Size([2, 64, 1200])\nDecoder\ntorch.Size([64]) torch.Size([2, 64, 1200]) torch.Size([2, 64, 1200])\nDecoder\ntorch.Size([64]) torch.Size([2, 64, 1200]) torch.Size([2, 64, 1200])\nDecoder\ntorch.Size([64]) torch.Size([2, 64, 1200]) torch.Size([2, 64, 1200])\nDecoder\ntorch.Size([64]) torch.Size([2, 64, 1200]) torch.Size([2, 64, 1200])\nDecoder\ntorch.Size([64]) torch.Size([2, 64, 1200]) torch.Size([2, 64, 1200])\nDecoder\ntorch.Size([64]) torch.Size([2, 64, 1200]) torch.Size([2, 64, 1200])\nDecoder\ntorch.Size([64]) torch.Size([2, 64, 1200]) torch.Size([2, 64, 1200])\nDecoder\ntorch.Size([64]) torch.Size([2, 64, 1200]) torch.Size([2, 64, 1200])\nDecoder\ntorch.Size([64]) torch.Size([2, 64, 1200]) torch.Size([2, 64, 1200])\nDecoder\ntorch.Size([64]) torch.Size([2, 64, 1200]) torch.Size([2, 64, 1200])\nDecoder\ntorch.Size([64]) torch.Size([2, 64, 1200]) torch.Size([2, 64, 1200])\nDecoder\ntorch.Size([64]) torch.Size([2, 64, 1200]) torch.Size([2, 64, 1200])\nDecoder\ntorch.Size([64]) torch.Size([2, 64, 1200]) torch.Size([2, 64, 1200])\nDecoder\ntorch.Size([64]) torch.Size([2, 64, 1200]) torch.Size([2, 64, 1200])\nDecoder\ntorch.Size([64]) torch.Size([2, 64, 1200]) torch.Size([2, 64, 1200])\nDecoder\ntorch.Size([64]) torch.Size([2, 64, 1200]) torch.Size([2, 64, 1200])\nDecoder\ntorch.Size([64]) torch.Size([2, 64, 1200]) torch.Size([2, 64, 1200])\n"
    }
   ],
   "source": [
    "pred = model(src, trg)"
   ]
  },
  {
   "cell_type": "code",
   "execution_count": 56,
   "metadata": {},
   "outputs": [
    {
     "output_type": "execute_result",
     "data": {
      "text/plain": "torch.Size([40, 64, 45000])"
     },
     "metadata": {},
     "execution_count": 56
    }
   ],
   "source": [
    "pred.shape"
   ]
  },
  {
   "cell_type": "code",
   "execution_count": 33,
   "metadata": {},
   "outputs": [],
   "source": [
    "a=torch.zeros(4,64,600)"
   ]
  },
  {
   "cell_type": "code",
   "execution_count": 34,
   "metadata": {},
   "outputs": [
    {
     "output_type": "execute_result",
     "data": {
      "text/plain": "torch.Size([4, 64, 600])"
     },
     "metadata": {},
     "execution_count": 34
    }
   ],
   "source": [
    "a.shape"
   ]
  },
  {
   "cell_type": "code",
   "execution_count": 42,
   "metadata": {},
   "outputs": [
    {
     "output_type": "execute_result",
     "data": {
      "text/plain": "torch.Size([2, 64, 1200])"
     },
     "metadata": {},
     "execution_count": 42
    }
   ],
   "source": [
    "torch.cat((a[0:2,:,:],a[2:,:,:]),dim=2).shape"
   ]
  },
  {
   "cell_type": "code",
   "execution_count": null,
   "metadata": {},
   "outputs": [],
   "source": []
  }
 ],
 "metadata": {
  "language_info": {
   "codemirror_mode": {
    "name": "ipython",
    "version": 3
   },
   "file_extension": ".py",
   "mimetype": "text/x-python",
   "name": "python",
   "nbconvert_exporter": "python",
   "pygments_lexer": "ipython3",
   "version": "3.6.9-final"
  },
  "orig_nbformat": 2,
  "kernelspec": {
   "name": "python36964bit82e0c536a14d4323869958abab96ca7f",
   "display_name": "Python 3.6.9 64-bit"
  }
 },
 "nbformat": 4,
 "nbformat_minor": 2
}